{
 "cells": [
  {
   "cell_type": "code",
   "outputs": [],
   "source": [
    "!pip install pandas plotnine"
   ],
   "metadata": {
    "collapsed": false
   },
   "id": "951c8df3016ebb24"
  },
  {
   "cell_type": "code",
   "outputs": [],
   "source": [
    "''' \n",
    "first I import all modules I will need\n",
    "'''\n",
    "import numpy as np\n",
    "import random\n",
    "import pandas as pd\n",
    "from collections import Counter\n",
    "import pickle"
   ],
   "metadata": {
    "collapsed": true,
    "ExecuteTime": {
     "end_time": "2025-04-24T16:41:04.566932Z",
     "start_time": "2025-04-24T16:41:04.546825Z"
    }
   },
   "id": "initial_id",
   "execution_count": 25
  },
  {
   "cell_type": "code",
   "outputs": [],
   "source": [
    "alanine       = {\"GCU\", \"GCC\", \"GCA\", \"GCG\"}\n",
    "arginine      = {\"CGU\", \"CGC\", \"CGA\", \"CGG\", \"AGA\", \"AGG\"}\n",
    "asparagine    = {\"AAU\", \"AAC\"}\n",
    "aspartic_acid = {\"GAU\", \"GAC\"}\n",
    "cysteine      = {\"UGU\", \"UGC\"}\n",
    "glutamine     = {\"CAA\", \"CAG\"}\n",
    "glutamic_acid = {\"GAA\", \"GAG\"}\n",
    "glycine       = {\"GGU\", \"GGC\", \"GGA\", \"GGG\"}\n",
    "histidine     = {\"CAU\", \"CAC\"}\n",
    "isoleucine    = {\"AUU\", \"AUC\", \"AUA\"}\n",
    "leucine       = {'CUG', 'CUA', 'CUU', 'CUC', 'UUA', 'UUG'}\n",
    "lysine        = {\"AAA\", \"AAG\"}\n",
    "methionine    = {\"AUG\"}\n",
    "phenylalanine = {\"UUU\", \"UUC\"}\n",
    "proline       = {\"CCU\", \"CCC\", \"CCA\", \"CCG\"}\n",
    "serine        = {\"UCU\", \"UCC\", \"UCA\", \"UCG\", \"AGU\", \"AGC\"}\n",
    "threonine     = {\"ACU\", \"ACC\", \"ACA\", \"ACG\"}\n",
    "tryptophan    = {\"UGG\"}\n",
    "tyrosine      = {\"UAU\", \"UAC\"}\n",
    "valine        = {\"GUU\", \"GUC\", \"GUA\", \"GUG\"}\n",
    "stop_codons   = {\"UAA\", \"UAG\", \"UGA\"}\n",
    "\n",
    "amino_acids = {\n",
    "    \"A\": alanine,\n",
    "    \"R\": arginine,\n",
    "    \"N\": asparagine,\n",
    "    \"D\": aspartic_acid,\n",
    "    \"C\": cysteine,\n",
    "    \"Q\": glutamine,\n",
    "    \"E\": glutamic_acid,\n",
    "    \"G\": glycine,\n",
    "    \"H\": histidine,\n",
    "    \"I\": isoleucine,\n",
    "    \"L\": leucine,\n",
    "    \"K\": lysine,\n",
    "    \"M\": methionine,\n",
    "    \"F\": phenylalanine,\n",
    "    \"P\": proline,\n",
    "    \"S\": serine,\n",
    "    \"T\": threonine,\n",
    "    \"W\": tryptophan,\n",
    "    \"Y\": tyrosine,\n",
    "    \"V\": valine,\n",
    "    \"STOP\": stop_codons \n",
    "}\n",
    "\n",
    "codon_to_amino_acid = {codon: aa for aa, codon_set in amino_acids.items() for codon in codon_set}"
   ],
   "metadata": {
    "collapsed": false,
    "ExecuteTime": {
     "end_time": "2025-04-24T16:26:07.710924Z",
     "start_time": "2025-04-24T16:26:07.689882Z"
    }
   },
   "id": "1e48e197faae7fb7",
   "execution_count": 10
  },
  {
   "cell_type": "code",
   "outputs": [],
   "source": [
    "# Create population of equal counts for every leucine codon\n",
    "population = np.tile(['CUG', 'CUA', 'CUU', 'CUC', 'UUA', 'UUG'], 100)"
   ],
   "metadata": {
    "collapsed": false,
    "ExecuteTime": {
     "end_time": "2025-04-24T16:26:07.898032Z",
     "start_time": "2025-04-24T16:26:07.882992Z"
    }
   },
   "id": "776b7c8a0f377bc3",
   "execution_count": 11
  },
  {
   "cell_type": "code",
   "outputs": [],
   "source": [
    "fitness_map = {\n",
    "    \"L\": 1.0,   \"M\": 0.85,  \"V\": 0.77,  \"I\": 0.77,  \"W\": 0.68,  \n",
    "    \"Y\": 0.65,  \"F\": 0.65,  \"C\": 0.61,  \"A\": 0.57,  \"G\": 0.54,  \n",
    "    \"P\": 0.54,  \"H\": 0.52,  \"S\": 0.50,  \"T\": 0.50,  \"Q\": 0.46,  \n",
    "    \"K\": 0.44,  \"R\": 0.44,  \"N\": 0.41,  \"D\": 0.35,  \"E\": 0.35,  \n",
    "    \"STOP\": 0.0\n",
    "}\n",
    "\n",
    "def translation(codon: str) -> int:\n",
    "    \"\"\"\n",
    "    Function that implements translation\n",
    "    \"\"\"\n",
    "    return codon_to_amino_acid[codon]\n",
    "\n",
    "def get_AA_fitness(population):\n",
    "    \"\"\"\n",
    "    Fitness function that incorporates translation and is scoring codons based on translation, with respect to leucine. \n",
    "    Meaning that codons that encode leucine will get more points than those that don't, and it will depend on how dissimilar they are from leucine.\n",
    "    \"\"\"\n",
    "    fitness_scores = []\n",
    "    for codon in population:\n",
    "        fitness_scores.append(fitness_map[translation(codon)])\n",
    "    \n",
    "    return np.array(fitness_scores, dtype=float)"
   ],
   "metadata": {
    "collapsed": false,
    "ExecuteTime": {
     "end_time": "2025-04-24T16:26:08.070137Z",
     "start_time": "2025-04-24T16:26:08.052140Z"
    }
   },
   "id": "9cf158c2a866df30",
   "execution_count": 12
  },
  {
   "cell_type": "code",
   "outputs": [],
   "source": [
    "def get_uniform_fitness(population):\n",
    "    '''\n",
    "    Fitness function where all codons area equal\n",
    "    Returs fitness scores for given population\n",
    "    '''\n",
    "    fitness_scores = np.ones_like(population, dtype=float)\n",
    "            \n",
    "    return fitness_scores"
   ],
   "metadata": {
    "collapsed": false,
    "ExecuteTime": {
     "end_time": "2025-04-24T16:26:08.211906Z",
     "start_time": "2025-04-24T16:26:08.199789Z"
    }
   },
   "id": "8711eeac549b3bdb",
   "execution_count": 13
  },
  {
   "cell_type": "code",
   "outputs": [],
   "source": [
    "def get_favour_leucine_fitness(population):\n",
    "    '''\n",
    "    Fitness function where leucine codons are favoured    \n",
    "    Returs fitness scores for given population\n",
    "    '''\n",
    "    fitness_scores = np.array([1 if ind in leucine else 0.25 for ind in population], dtype=float)\n",
    "            \n",
    "    return fitness_scores"
   ],
   "metadata": {
    "collapsed": false,
    "ExecuteTime": {
     "end_time": "2025-04-24T16:26:08.368618Z",
     "start_time": "2025-04-24T16:26:08.359505Z"
    }
   },
   "id": "c465587b6619a46",
   "execution_count": 14
  },
  {
   "cell_type": "code",
   "outputs": [],
   "source": [
    "def roulette_selection(population, fitness_scores):\n",
    "    \"\"\"\n",
    "    Function that implements the roulette-wheel selection, probability for anm individual to be in the next generation depends on its fitness score \n",
    "    \"\"\"\n",
    "    probabilities = fitness_scores / fitness_scores.sum()\n",
    "    selected_indices = np.random.choice(population, size=len(population), p=probabilities)\n",
    "    \n",
    "    return selected_indices"
   ],
   "metadata": {
    "collapsed": false,
    "ExecuteTime": {
     "end_time": "2025-04-24T16:26:08.511058Z",
     "start_time": "2025-04-24T16:26:08.492059Z"
    }
   },
   "id": "f3616cbf4d5f07b0",
   "execution_count": 15
  },
  {
   "cell_type": "code",
   "outputs": [],
   "source": [
    "nucleotides = np.array([\"A\", \"C\", \"G\", \"U\"])\n",
    "# to what can nucleotides mutate\n",
    "mutation_map = {n: nucleotides[nucleotides != n] for n in nucleotides}"
   ],
   "metadata": {
    "collapsed": false,
    "ExecuteTime": {
     "end_time": "2025-04-24T16:26:09.031424Z",
     "start_time": "2025-04-24T16:26:09.018884Z"
    }
   },
   "id": "dbf8a69c8491cee2",
   "execution_count": 16
  },
  {
   "cell_type": "code",
   "outputs": [],
   "source": [
    "def random_simple_mutation(population, mut_per_bit):\n",
    "    '''\n",
    "    Basic mutation function without any biases or anything\n",
    "    :param mut_per_bit: probability of single point mutation\n",
    "    :return: new population, empty array for statistics, empty dict for statistics\n",
    "    '''\n",
    "    new_population = []\n",
    "    mutation_stats = {codon: 0 for codon in leucine}    # keep track of how many nonsynonymous mutations for each codon\n",
    "\n",
    "    for i in range(len(population)):  # Loop over individuals\n",
    "        original_codon = population[i]              # a string, e.g. \"CUG\"\n",
    "        original_list = list(original_codon)          # list of nucleotides\n",
    "        mutated_codon = None\n",
    "\n",
    "        for j, nucleotide in enumerate(original_list):  # Loop over nucleotide positions\n",
    "            if random.random() < mut_per_bit:  # Mutation occurs at this nucleotide\n",
    "                options = [n for n in mutation_map[nucleotide]]\n",
    "                new_list = original_list.copy()\n",
    "                new_list[j] = random.choice(options)\n",
    "                mutated_codon = \"\".join(new_list)\n",
    "                new_population.append(mutated_codon)\n",
    "                break  # Only allow one mutation per codon.\n",
    "\n",
    "        # If no mutation occurred, append the original codon.\n",
    "        if mutated_codon is None:\n",
    "            mutated_codon = original_codon\n",
    "            new_population.append(mutated_codon)\n",
    "\n",
    "        '''Statistic about which codon most mutate outside of leucine; SANITY CHECK'''\n",
    "        if mutated_codon not in leucine and original_codon in leucine:\n",
    "            mutation_stats[original_codon] += 1\n",
    "        '''Statistic ends here'''\n",
    "\n",
    "                \n",
    "    return np.array([\"\".join(ind) for ind in new_population]), mutation_stats"
   ],
   "metadata": {
    "collapsed": false,
    "ExecuteTime": {
     "end_time": "2025-04-24T16:26:09.859800Z",
     "start_time": "2025-04-24T16:26:09.842785Z"
    }
   },
   "id": "49e9e9956afbcce4",
   "execution_count": 17
  },
  {
   "cell_type": "code",
   "outputs": [],
   "source": [
    "def calculate_transition_prob(ratio: float):\n",
    "    \"\"\"\n",
    "    ratio 0.5 means both ts and tv happen equally frequently\n",
    "    \"\"\"\n",
    "    return  ratio / (ratio + 0.5) # transition probability given the ratio"
   ],
   "metadata": {
    "collapsed": false,
    "ExecuteTime": {
     "end_time": "2025-04-24T16:26:10.627100Z",
     "start_time": "2025-04-24T16:26:10.617086Z"
    }
   },
   "id": "899f477d3fe15bcc",
   "execution_count": 18
  },
  {
   "cell_type": "code",
   "outputs": [],
   "source": [
    "def biased_mutation(population, mut_per_bit, TSTV_ratio):\n",
    "    \"\"\"\n",
    "    Function that during mutation takes into consideration ts/tv ratio\n",
    "    :param TSTV_ratio: ts/tv ratio\n",
    "    :return: new population\n",
    "    \"\"\"\n",
    "    purines = (\"A\", \"G\")\n",
    "    pyrimidines = (\"C\", \"U\")\n",
    "    transition_prob = calculate_transition_prob(TSTV_ratio)\n",
    "    mutation_stats = {codon: 0 for codon in leucine}\n",
    "    new_population = []\n",
    "    \n",
    "    for i in range(len(population)):  # Loop over individuals\n",
    "        original_codon = population[i]              # a string, e.g. \"CUG\"\n",
    "        original_list = list(original_codon)          # list of nucleotides\n",
    "        mutated_codon = None\n",
    "\n",
    "        for j, nucleotide in enumerate(original_list):  # Loop over nucleotide positions\n",
    "            if random.random() < mut_per_bit:  # Mutation occurs at this nucleotide\n",
    "                if random.random() < transition_prob:\n",
    "                    options = [n for n in mutation_map[nucleotide] if\n",
    "                               (n in purines and nucleotide in purines) or\n",
    "                               (n in pyrimidines and nucleotide in pyrimidines)]\n",
    "                else:\n",
    "                    options = [n for n in mutation_map[nucleotide] if\n",
    "                               (n in purines and nucleotide in pyrimidines) or\n",
    "                               (n in pyrimidines and nucleotide in purines)]\n",
    "\n",
    "                # Create a copy and mutate the j-th nucleotide.\n",
    "                new_list = original_list.copy()\n",
    "                new_list[j] = random.choice(options)\n",
    "                mutated_codon = \"\".join(new_list)\n",
    "                new_population.append(mutated_codon)\n",
    "                break  # Only allow one mutation per codon.\n",
    "\n",
    "        # If no mutation occurred, append the original codon.\n",
    "        if mutated_codon is None:\n",
    "            mutated_codon = original_codon\n",
    "            new_population.append(mutated_codon)\n",
    "\n",
    "        # Statistic about which codon most mutate outside of leucine\n",
    "        if mutated_codon not in leucine and original_codon in leucine:\n",
    "            mutation_stats[original_codon] += 1\n",
    "\n",
    "    return np.array(new_population), mutation_stats"
   ],
   "metadata": {
    "collapsed": false,
    "ExecuteTime": {
     "end_time": "2025-04-24T16:27:43.279366Z",
     "start_time": "2025-04-24T16:27:43.266362Z"
    }
   },
   "id": "3298941112f62d79",
   "execution_count": 19
  },
  {
   "cell_type": "code",
   "outputs": [],
   "source": [
    "from plotnine import geom_polygon, geom_text, theme_void, coord_fixed, ggplot, aes, element_rect, theme, element_text, \\\n",
    "    scale_fill_manual\n",
    "\n",
    "\n",
    "def create_pie_chart(final_population, resolution=50):\n",
    "    \"\"\"\n",
    "    Creates a pie chart without using coord_polar by manually computing wedge polygons.      \n",
    "    Returns a plotnine ggplot object representing the pie chart.\n",
    "    \"\"\"\n",
    "    \n",
    "    valid_labels = ['CUG', 'CUA', 'CUU', 'CUC', 'UUA', 'UUG']\n",
    "    grouped_data = [x if x in valid_labels else \"Others\" for x in final_population]\n",
    "    counts = pd.Series(grouped_data).value_counts()\n",
    "    ordered_categories = [label for label in valid_labels if label in counts.index]\n",
    "    if \"Others\" in counts.index:\n",
    "        ordered_categories.append(\"Others\")\n",
    "    \n",
    "    distribution = counts[ordered_categories].tolist()\n",
    "    \n",
    "    # Compute angles for each slice\n",
    "    total = sum(distribution)\n",
    "    fractions = [value / total for value in distribution]\n",
    "    angles = [fraction * 2 * np.pi for fraction in fractions]\n",
    "    \n",
    "    start_angles = []\n",
    "    end_angles = []\n",
    "    current_angle = 0\n",
    "    for angle in angles:\n",
    "        start_angles.append(current_angle)\n",
    "        current_angle += angle\n",
    "        end_angles.append(current_angle)\n",
    "    \n",
    "    palette = {\n",
    "        \"CUG\": \"#1f77b4\",  # Dark blue\n",
    "        \"CUA\": \"#aec7e8\",  # Light blue\n",
    "        \"CUU\": \"#d62728\",  # Dark red\n",
    "        \"CUC\": \"#ff9896\",  # Light red\n",
    "        \"UUA\": \"#2ca02c\",  # Dark green\n",
    "        \"UUG\": \"#98df8a\"   # Light green\n",
    "    }\n",
    "    \n",
    "    # Generate the polygon points for each slice\n",
    "    poly_data = []\n",
    "    for i, (start, end, label) in enumerate(zip(start_angles, end_angles, ordered_categories)):\n",
    "        arc_angles = np.linspace(start, end, resolution)\n",
    "        for theta in arc_angles:\n",
    "            x = np.cos(theta)\n",
    "            y = np.sin(theta)\n",
    "            poly_data.append({\"x\": x, \"y\": y, \"label\": label})\n",
    "        # Append the center point to close the wedge.\n",
    "        poly_data.append({\"x\": 0, \"y\": 0, \"label\": label})\n",
    "    \n",
    "    df_poly = pd.DataFrame(poly_data)\n",
    "    \n",
    "    text_data = []\n",
    "    label_radius=0.7\n",
    "    for start, end, fraction, label in zip(start_angles, end_angles, fractions, ordered_categories):\n",
    "        mid_angle = (start + end) / 2\n",
    "        x_label = np.cos(mid_angle) * label_radius\n",
    "        y_label = np.sin(mid_angle) * label_radius\n",
    "        percentage = f\"{fraction*100:.1f}%\"\n",
    "        text_data.append({\"x\": x_label, \"y\": y_label, \"label\": label, \"percentage\": percentage})\n",
    "    \n",
    "    df_text = pd.DataFrame(text_data)\n",
    "    \n",
    "    p = (ggplot(df_poly, aes(x='x', y='y', group='label', fill='label')) +\n",
    "         geom_polygon() +\n",
    "         coord_fixed() +\n",
    "         theme_void() +\n",
    "         theme(\n",
    "             panel_background=element_rect(fill='white'),\n",
    "             plot_background=element_rect(fill='white'),\n",
    "             plot_title=element_text(size=14),\n",
    "             legend_title=element_text(size=13),\n",
    "             legend_text=element_text(size=11),\n",
    "         ) +\n",
    "         scale_fill_manual(name=\"Codons\", values=palette) +\n",
    "         # Add percentage labels.\n",
    "         geom_text(data=df_text, mapping=aes(x='x', y='y', label='percentage'),\n",
    "                   color='black', size=10, va='center', ha='center')\n",
    "    )\n",
    "    \n",
    "    return p"
   ],
   "metadata": {
    "collapsed": false,
    "ExecuteTime": {
     "end_time": "2025-04-24T16:44:55.020987Z",
     "start_time": "2025-04-24T16:44:54.991976Z"
    }
   },
   "id": "85e9eb12c190367f",
   "execution_count": 26
  },
  {
   "cell_type": "code",
   "outputs": [],
   "source": [
    "def average_the_frequencies(frequencies_df, step):\n",
    "    \"\"\"\n",
    "    Averages the frequencies over blocks of 'step' generations.      \n",
    "    Returns a new DataFrame with averaged frequencies over each block.\n",
    "    \"\"\"\n",
    "    groups = np.arange(len(frequencies_df)) // step\n",
    "    # Group by labels and compute the mean for each group, then reset index.\n",
    "    return frequencies_df.groupby(groups).mean().reset_index(drop=True)"
   ],
   "metadata": {
    "collapsed": false,
    "ExecuteTime": {
     "end_time": "2025-04-24T16:44:55.271988Z",
     "start_time": "2025-04-24T16:44:55.259471Z"
    }
   },
   "id": "5f1418fe0c115eac",
   "execution_count": 27
  },
  {
   "cell_type": "code",
   "outputs": [],
   "source": [
    "from plotnine import geom_line, labs, scale_color_manual, theme_minimal\n",
    "\n",
    "\n",
    "def plot_frequencies(frequencies_df, step):\n",
    "    \"\"\"\n",
    "    Plots the distribution of codon frequencies over generations using plotnine.      \n",
    "    Returns a plotnine ggplot object of codon frequencies.\n",
    "    \"\"\"\n",
    "    \n",
    "    averages_df = average_the_frequencies(frequencies_df, step)\n",
    "    averages_df.loc[0] = 100\n",
    "    \n",
    "    n_bins = len(averages_df)\n",
    "    averages_df[\"Generation\"] = np.arange(n_bins) * step + step/2\n",
    "    long_df = averages_df.melt(id_vars=[\"Generation\"], var_name=\"Codon\", value_name=\"Frequency\")\n",
    "    order = [\"CUG\", \"CUA\", \"CUU\", \"CUC\", \"UUA\", \"UUG\"]\n",
    "    long_df[\"Codon\"] = pd.Categorical(long_df[\"Codon\"], categories=order, ordered=True)\n",
    "\n",
    "    palette = {\n",
    "        \"CUG\": \"#1f77b4\",  # Dark blue\n",
    "        \"CUA\": \"#aec7e8\",  # Light blue\n",
    "        \"CUU\": \"#d62728\",  # Dark red\n",
    "        \"CUC\": \"#ff9896\",  # Light red\n",
    "        \"UUA\": \"#2ca02c\",  # Dark green\n",
    "        \"UUG\": \"#98df8a\"   # Light green\n",
    "    }\n",
    "    \n",
    "    # Build the plot using plotnine.\n",
    "    p = (ggplot(long_df, aes(x=\"Generation\", y=\"Frequency\", color=\"Codon\")) +\n",
    "         geom_line(size=1) +\n",
    "         labs(\n",
    "             x=\"Generations\",\n",
    "             y=\"Codon Frequency\"\n",
    "         ) +\n",
    "         scale_color_manual(values=palette) +\n",
    "         theme_minimal() +\n",
    "         theme(\n",
    "             plot_title=element_text(size=14, weight='bold'),\n",
    "             axis_title=element_text(size=11),\n",
    "             axis_title_x=element_text(size=15),\n",
    "             axis_title_y=element_text(size=15),\n",
    "             axis_text_x=element_text(size=13),\n",
    "             axis_text_y=element_text(size=13),\n",
    "             legend_title=element_text(size=14),\n",
    "             legend_text=element_text(size=12),\n",
    "             panel_background=element_rect(fill=\"white\"),\n",
    "             plot_background=element_rect(fill=\"white\")\n",
    "         ))\n",
    "    \n",
    "    return p"
   ],
   "metadata": {
    "collapsed": false,
    "ExecuteTime": {
     "end_time": "2025-04-24T16:44:55.619065Z",
     "start_time": "2025-04-24T16:44:55.606134Z"
    }
   },
   "id": "6e04693a32ebe46e",
   "execution_count": 28
  },
  {
   "cell_type": "code",
   "outputs": [],
   "source": [
    "from plotnine import geom_bar\n",
    "\n",
    "\n",
    "def plot_mutation_bar_plot(frequencies_df, mutation_stats, mut_rate, generations, pop_size=600):\n",
    "    \"\"\"\n",
    "    Histogram of how many times respective codons mutated out of leucine, normalized.\n",
    "    :param  mutation_stats: nonsynonymous mutations counts for each codon\n",
    "    Returns a plotnine ggplot object representing bar plot of mutations count.\n",
    "    \"\"\"\n",
    "    palette = {\n",
    "        \"CUG\": \"#1f77b4\",  # Dark blue\n",
    "        \"CUA\": \"#aec7e8\",  # Light blue\n",
    "        \"CUU\": \"#d62728\",  # Dark red\n",
    "        \"CUC\": \"#ff9896\",  # Light red\n",
    "        \"UUA\": \"#2ca02c\",  # Dark green\n",
    "        \"UUG\": \"#98df8a\"   # Light green\n",
    "    }\n",
    "    codons = list(mutation_stats.keys())\n",
    "    # Calculate the mean frequency for each codon.\n",
    "    mean_freq = np.mean(frequencies_df, axis=0)\n",
    "    \n",
    "    # Normalize the mutation counts.\n",
    "    norm_factor = pop_size * generations * mut_rate\n",
    "    normalized_counts = {codon: mutation_stats[codon] / norm_factor for codon in codons}\n",
    "    # Adjust counts by the mean frequency relative to the pop_size.\n",
    "    final_counts = {codon: normalized_counts[codon] / (mean_freq[codon] / pop_size) for codon in codons}\n",
    "\n",
    "    df = pd.DataFrame({\n",
    "        \"Codon\": codons,\n",
    "        \"MutationCount\": [final_counts[c] for c in codons]\n",
    "    })\n",
    "\n",
    "    order = [\"CUG\", \"CUA\", \"CUU\", \"CUC\", \"UUA\", \"UUG\"]\n",
    "    df[\"Codon\"] = pd.Categorical(df[\"Codon\"], categories=order, ordered=True)\n",
    "\n",
    "    p = (ggplot(df, aes(x=\"Codon\", y=\"MutationCount\", fill=\"Codon\"))\n",
    "         + geom_bar(stat=\"identity\")\n",
    "         + labs(\n",
    "             x=\"Codon\",\n",
    "             y=\"Non-synonymous Mutation Count\"\n",
    "         )\n",
    "         + scale_fill_manual(values=palette)\n",
    "         + theme_minimal()\n",
    "         + theme(\n",
    "             panel_background=element_rect(fill=\"white\"),\n",
    "             plot_background=element_rect(fill=\"white\"),\n",
    "             plot_title=element_text(size=14),\n",
    "             axis_title_x=element_text(size=14),\n",
    "             axis_title_y=element_text(size=14),\n",
    "             axis_text_x=element_text(size=13),\n",
    "             axis_text_y=element_text(size=12),\n",
    "             legend_title=element_text(size=14),\n",
    "             legend_text=element_text(size=12),\n",
    "         ))\n",
    "    \n",
    "    return p"
   ],
   "metadata": {
    "collapsed": false,
    "ExecuteTime": {
     "end_time": "2025-04-24T16:44:56.457548Z",
     "start_time": "2025-04-24T16:44:56.439537Z"
    }
   },
   "id": "80348e860707d439",
   "execution_count": 29
  },
  {
   "cell_type": "code",
   "outputs": [],
   "source": [
    "def runEvolution(population, generations, fitness_func, mut_per_bit, mutation_func, *args):\n",
    "    mutation_stats = {codon: 0 for codon in leucine}\n",
    "    frequencies = pd.DataFrame(0, index=range(generations), columns=list(leucine))\n",
    "    frequencies.loc[0] = 100\n",
    "    for i in range(generations):\n",
    "        fitness_scores = fitness_func(population)\n",
    "        mutation_pool = roulette_selection(population, fitness_scores)\n",
    "        population, mutations= mutation_func(mutation_pool, mut_per_bit, *args)\n",
    "        # update codon mutation statistics\n",
    "        for codon in mutation_stats.keys():\n",
    "            mutation_stats[codon] += mutations.get(codon, 0)\n",
    "\n",
    "        for codon in leucine:\n",
    "            frequencies.loc[i, codon] = np.count_nonzero(population == codon)\n",
    "\n",
    "    return population, frequencies, mutation_stats"
   ],
   "metadata": {
    "collapsed": false,
    "ExecuteTime": {
     "end_time": "2025-04-24T16:44:58.633336Z",
     "start_time": "2025-04-24T16:44:58.620341Z"
    }
   },
   "id": "249241fa74f2ad1a",
   "execution_count": 30
  },
  {
   "cell_type": "code",
   "outputs": [],
   "source": [
    "def run_multiple_simulations(population, generations, mut_per_bit, times, mutation_func, fitness_func, *args):\n",
    "    codon_counts = {codon: 0 for codon in leucine}\n",
    "    codon_proportions = []\n",
    "    frequencies_df_list = []\n",
    "    codon_stats_list = []\n",
    "\n",
    "    for run in range(times):\n",
    "        print(f\"Running simulation {run + 1}/{times}...\")\n",
    "        new_population, frequencies_df, codon_stats = runEvolution(\n",
    "            population, generations, fitness_func, mut_per_bit, mutation_func, *args\n",
    "        )\n",
    "        run_codon_count = Counter(new_population)\n",
    "        # Update the codon_counts dictionary\n",
    "        for codon in leucine:\n",
    "            codon_counts[codon] += run_codon_count.get(codon, 0)\n",
    "        # Count the frequency of each leucine codon in the final population\n",
    "        codon_proportions.append(np.array([run_codon_count.get(codon, 0) for codon in leucine]))\n",
    "        frequencies_df_list.append(frequencies_df)\n",
    "        codon_stats_list.append(codon_stats)\n",
    "\n",
    "    # Compute average frequencies over runs.\n",
    "    avg_frequencies = pd.concat(frequencies_df_list).groupby(level=0).mean()\n",
    "\n",
    "    # Compute average codon stats for each leucine codon over runs.\n",
    "    avg_codon_stats = {}\n",
    "    for codon in leucine:\n",
    "        avg_codon_stats[codon] = np.mean([cs[codon] for cs in codon_stats_list])\n",
    "\n",
    "    flat_population = []\n",
    "    for codon, count in codon_counts.items():\n",
    "        flat_population.extend([codon] * count)\n",
    "\n",
    "    return avg_frequencies, avg_codon_stats, codon_proportions, flat_population"
   ],
   "metadata": {
    "collapsed": false,
    "ExecuteTime": {
     "end_time": "2025-04-24T16:44:58.947275Z",
     "start_time": "2025-04-24T16:44:58.935303Z"
    }
   },
   "id": "fd50a29a16db9a41",
   "execution_count": 31
  },
  {
   "cell_type": "markdown",
   "source": [
    "<h1>Simple Model</h1>"
   ],
   "metadata": {
    "collapsed": false
   },
   "id": "59a448b7a2d71bab"
  },
  {
   "cell_type": "code",
   "outputs": [],
   "source": [
    "random.seed(42)\n",
    "np.random.seed(42)"
   ],
   "metadata": {
    "collapsed": false,
    "ExecuteTime": {
     "end_time": "2025-04-24T16:45:00.338408Z",
     "start_time": "2025-04-24T16:45:00.318409Z"
    }
   },
   "id": "dbbeee643dace644",
   "execution_count": 32
  },
  {
   "cell_type": "code",
   "outputs": [],
   "source": [
    "mut_per_bit = 0.005\n",
    "generations = 4000\n",
    "times = 5000\n",
    "avg_frequencies_SM, avg_codon_stats_SM, codon_proportions_SM, population_SM = run_multiple_simulations(population, generations, mut_per_bit, times, random_simple_mutation, get_favour_leucine_fitness)"
   ],
   "metadata": {
    "collapsed": false
   },
   "id": "69e32dc784e98ce"
  },
  {
   "cell_type": "code",
   "outputs": [],
   "source": [
    "# Save the inputs using pickle\n",
    "with open(\"simulation_result.pkl\", \"wb\") as f:\n",
    "    pickle.dump((avg_frequencies_SM, avg_codon_stats_SM, codon_proportions_SM, population_SM), f)"
   ],
   "metadata": {
    "collapsed": false
   },
   "id": "9fd8a85d4c7df74f"
  },
  {
   "cell_type": "code",
   "outputs": [],
   "source": [
    "# Create Plots\n",
    "pie = create_pie_chart(population_SM)\n",
    "pie.save(\"Simple_model/pie_chart.png\", width=6, height=4, dpi=300)\n",
    "\n",
    "freq = plot_frequencies(avg_frequencies_SM, generations // 50)\n",
    "freq.save(\"Simple_model/freq_chart.png\", width=6, height=4, dpi=300)\n",
    "\n",
    "mut = plot_mutation_bar_plot(avg_frequencies_SM, avg_codon_stats_SM, mut_per_bit, generations, pop_size=600)\n",
    "mut.save(\"Simple_model/mutation.png\", width=6, height=4, dpi=300)"
   ],
   "metadata": {
    "collapsed": false
   },
   "id": "79d0302bf976fd46"
  },
  {
   "cell_type": "markdown",
   "source": [
    "<h1>Mutation Bias Model</h1>"
   ],
   "metadata": {
    "collapsed": false
   },
   "id": "c39e2810fb678f87"
  },
  {
   "cell_type": "markdown",
   "source": [
    "<h2>TS/TV ratio of 1</h2>"
   ],
   "metadata": {
    "collapsed": false
   },
   "id": "fd05c9bc85bed07e"
  },
  {
   "cell_type": "code",
   "outputs": [],
   "source": [
    "ratio = 1.0\n",
    "avg_frequencies_MBM_1, avg_codon_stats_MBM_1, codon_proportions_MBM_1, population_MBM_1 = run_multiple_simulations(population, generations, mut_per_bit, times, biased_mutation, get_favour_leucine_fitness, ratio)"
   ],
   "metadata": {
    "collapsed": false
   },
   "id": "a2bb4a764a44f60a"
  },
  {
   "cell_type": "code",
   "outputs": [],
   "source": [
    "# Save the inputs using pickle\n",
    "with open(\"TS_TV_Model/ts_tv_1/simulation_result.pkl\", \"wb\") as f:\n",
    "    pickle.dump((avg_frequencies_MBM_1, avg_codon_stats_MBM_1, codon_proportions_MBM_1, population_MBM_1), f)"
   ],
   "metadata": {
    "collapsed": false
   },
   "id": "f3d70eef346873f6"
  },
  {
   "cell_type": "code",
   "outputs": [],
   "source": [
    "pie3 = create_pie_chart(population_MBM_1)\n",
    "pie3.save(\"TS_TV_Model/ts_tv_1/pie_chart.png\", width=6, height=4, dpi=300)\n",
    "\n",
    "freq3 = plot_frequencies(avg_frequencies_MBM_1, generations // 50)\n",
    "freq3.save(\"TS_TV_Model/ts_tv_1/freq_chart.png\", width=6, height=4, dpi=300)\n",
    "\n",
    "mut3 = plot_mutation_bar_plot(avg_frequencies_MBM_1, avg_codon_stats_MBM_1, mut_per_bit, generations, pop_size=600)\n",
    "mut3.save(\"TS_TV_Model/ts_tv_1/mutation.png\", width=6, height=4, dpi=300)"
   ],
   "metadata": {
    "collapsed": false
   },
   "id": "f74274ce3e5a8637"
  },
  {
   "cell_type": "markdown",
   "source": [
    "<h2>TS/TV ratio of 2</h2>"
   ],
   "metadata": {
    "collapsed": false
   },
   "id": "af7e15ecde69c9e6"
  },
  {
   "cell_type": "code",
   "outputs": [],
   "source": [
    "ratio = 2.0\n",
    "avg_frequencies_MBM_2, avg_codon_stats_MBM_2, codon_proportions_MBM_2, population_MBM_2 = run_multiple_simulations(population, generations, mut_per_bit, times, biased_mutation, get_favour_leucine_fitness, ratio)"
   ],
   "metadata": {
    "collapsed": false
   },
   "id": "844961ec280bd72e"
  },
  {
   "cell_type": "code",
   "outputs": [],
   "source": [
    "# Save the inputs using pickle\n",
    "with open(\"TS_TV_Model/ts_tv_2/simulation_result.pkl\", \"wb\") as f:\n",
    "    pickle.dump((avg_frequencies_MBM_2, avg_codon_stats_MBM_2, codon_proportions_MBM_2, population_MBM_2), f)"
   ],
   "metadata": {
    "collapsed": false
   },
   "id": "3af882ab26546cbd"
  },
  {
   "cell_type": "code",
   "outputs": [],
   "source": [
    "pie2 = create_pie_chart(population_MBM_2)\n",
    "pie2.save(\"TS_TV_Model/ts_tv_2/pie_chart.png\", width=6, height=4, dpi=300)\n",
    "\n",
    "freq2 = plot_frequencies(avg_frequencies_MBM_2, generations // 50)\n",
    "freq2.save(\"TS_TV_Model/ts_tv_2/freq_chart.png\", width=6, height=4, dpi=300)\n",
    "\n",
    "mut2 = plot_mutation_bar_plot(avg_frequencies_MBM_2, avg_codon_stats_MBM_2, mut_per_bit, generations, pop_size=600)\n",
    "mut2.save(\"TS_TV_Model/ts_tv_2/mutation.png\", width=6, height=4, dpi=300)"
   ],
   "metadata": {
    "collapsed": false
   },
   "id": "2a76ec4250068c76"
  },
  {
   "cell_type": "markdown",
   "source": [
    "<h2>TS/TV ratio of 5</h2>"
   ],
   "metadata": {
    "collapsed": false
   },
   "id": "bb933c75e571a6a2"
  },
  {
   "cell_type": "code",
   "outputs": [],
   "source": [
    "ratio = 5.0\n",
    "avg_frequencies_MBM_5, avg_codon_stats_MBM_5, codon_proportions_MBM_5, population_MBM_5 = run_multiple_simulations(population, generations, mut_per_bit, times, biased_mutation, get_favour_leucine_fitness, ratio)"
   ],
   "metadata": {
    "collapsed": false
   },
   "id": "b985b2e7c21b4cf8"
  },
  {
   "cell_type": "code",
   "outputs": [],
   "source": [
    "# Save the inputs using pickle\n",
    "with open(\"TS_TV_Model/ts_tv_5/simulation_result.pkl\", \"wb\") as f:\n",
    "    pickle.dump((avg_frequencies_MBM_5, avg_codon_stats_MBM_5, codon_proportions_MBM_5, population_MBM_5), f)"
   ],
   "metadata": {
    "collapsed": false
   },
   "id": "4b60feae5148c247"
  },
  {
   "cell_type": "code",
   "outputs": [],
   "source": [
    "pie5 = create_pie_chart(population_MBM_5)\n",
    "pie5.save(\"TS_TV_Model/ts_tv_5/pie_chart.png\", width=6, height=4,\n",
    "          dpi=300)\n",
    "\n",
    "freq5 = plot_frequencies(avg_frequencies_MBM_5, generations // 50)\n",
    "freq5.save(\"TS_TV_Model/ts_tv_5/freq_chart.png\", width=6, height=4,\n",
    "           dpi=300)\n",
    "\n",
    "mut5 = plot_mutation_bar_plot(avg_frequencies_MBM_5, avg_codon_stats_MBM_5, mut_per_bit, generations, pop_size=600)\n",
    "mut5.save(\"TS_TV_Model/ts_tv_5/mutation.png\", width=6, height=4,\n",
    "          dpi=300)"
   ],
   "metadata": {
    "collapsed": false
   },
   "id": "9c09649d63e194c5"
  },
  {
   "cell_type": "markdown",
   "source": [
    "<h1>Translation Model</h1>"
   ],
   "metadata": {
    "collapsed": false
   },
   "id": "5c38678ccca1b365"
  },
  {
   "cell_type": "markdown",
   "source": [
    "<h2>TS/TV ratio of 0.5</h2>"
   ],
   "metadata": {
    "collapsed": false
   },
   "id": "d120145d74e5f3da"
  },
  {
   "cell_type": "code",
   "outputs": [],
   "source": [
    "avg_frequencies_TM_0_5, avg_codon_stats_TM_0_5, codon_proportions_TM_0_5, population_TM_0_5 = run_multiple_simulations(population, generations, mut_per_bit, times, random_simple_mutation, get_AA_fitness)"
   ],
   "metadata": {
    "collapsed": false
   },
   "id": "e8b11dce39380260"
  },
  {
   "cell_type": "code",
   "outputs": [],
   "source": [
    "# Save the inputs using pickle\n",
    "with open(\"Translation_Model/ts_tv_0_5/simulation_result.pkl\", \"wb\") as f:\n",
    "    pickle.dump((avg_frequencies_TM_0_5, avg_codon_stats_TM_0_5, codon_proportions_TM_0_5, population_TM_0_5), f)"
   ],
   "metadata": {
    "collapsed": false
   },
   "id": "c7d2028d20e687da"
  },
  {
   "cell_type": "code",
   "outputs": [],
   "source": [
    "pie0_5 = create_pie_chart(population_TM_0_5)\n",
    "pie0_5.save(\"Translation_Model/ts_tv_0_5/pie_chart.png\", width=6, height=4,\n",
    "          dpi=300)\n",
    "\n",
    "freq0_5 = plot_frequencies(avg_frequencies_TM_0_5, generations // 50)\n",
    "freq0_5.save(\"Translation_Model/ts_tv_0_5/freq_chart.png\", width=6, height=4,\n",
    "           dpi=300)\n",
    "\n",
    "mut0_5 = plot_mutation_bar_plot(avg_frequencies_TM_0_5, avg_codon_stats_TM_0_5, mut_per_bit, generations, pop_size=600)\n",
    "mut0_5.save(\"Translation_Model/ts_tv_0_5/mutation.png\", width=6, height=4,\n",
    "          dpi=300)"
   ],
   "metadata": {
    "collapsed": false
   },
   "id": "330e1c5c77607855"
  },
  {
   "cell_type": "markdown",
   "source": [
    "<h2>TS/TV ratio of 1</h2>"
   ],
   "metadata": {
    "collapsed": false
   },
   "id": "79990ae032cac590"
  },
  {
   "cell_type": "code",
   "outputs": [],
   "source": [
    "ratio = 1.0\n",
    "avg_frequencies_TM_1, avg_codon_stats_TM_1, codon_proportions_TM_1, population_TM_1 = run_multiple_simulations(population, generations, mut_per_bit, times, biased_mutation, get_AA_fitness, ratio)"
   ],
   "metadata": {
    "collapsed": false
   },
   "id": "d86390ad71e6fcab"
  },
  {
   "cell_type": "code",
   "outputs": [],
   "source": [
    "# Save the inputs using pickle\n",
    "with open(\"Translation_Model/ts_tv_1/simulation_result.pkl\", \"wb\") as f:\n",
    "    pickle.dump((avg_frequencies_TM_1, avg_codon_stats_TM_1, codon_proportions_TM_1, population_TM_1), f)"
   ],
   "metadata": {
    "collapsed": false
   },
   "id": "86453384c38d2c85"
  },
  {
   "cell_type": "code",
   "outputs": [],
   "source": [
    "pie6 = create_pie_chart(population_TM_1)\n",
    "pie6.save(\"Translation_Model/ts_tv_1/pie_chart.png\", width=6, height=4,\n",
    "          dpi=300)\n",
    "\n",
    "freq6 = plot_frequencies(avg_frequencies_TM_1, generations // 50)\n",
    "freq6.save(\"Translation_Model/ts_tv_1/freq_chart.png\", width=6, height=4,\n",
    "           dpi=300)\n",
    "\n",
    "mut6 = plot_mutation_bar_plot(avg_frequencies_TM_1, avg_codon_stats_TM_1, mut_per_bit, generations, pop_size=600)\n",
    "mut6.save(\"Translation_Model/ts_tv_1/mutation.png\", width=6, height=4,\n",
    "          dpi=300)"
   ],
   "metadata": {
    "collapsed": false
   },
   "id": "f0b37665cdfdd68b"
  },
  {
   "cell_type": "markdown",
   "source": [
    "<h2>TS/TV ratio of 2</h2>"
   ],
   "metadata": {
    "collapsed": false
   },
   "id": "2a263e9aa8fa96e3"
  },
  {
   "cell_type": "code",
   "outputs": [],
   "source": [
    "ratio = 2.0\n",
    "avg_frequencies_TM_2, avg_codon_stats_TM_2, codon_proportions_TM_2, population_TM_2 = run_multiple_simulations(population, generations, mut_per_bit, times, biased_mutation, get_AA_fitness, ratio)"
   ],
   "metadata": {
    "collapsed": false
   },
   "id": "db443a665cd993e7"
  },
  {
   "cell_type": "code",
   "outputs": [],
   "source": [
    "# Save the inputs using pickle\n",
    "with open(\"Translation_Model/ts_tv_2/simulation_result.pkl\", \"wb\") as f:\n",
    "    pickle.dump((avg_frequencies_TM_2, avg_codon_stats_TM_2, codon_proportions_TM_2, population_TM_2), f)"
   ],
   "metadata": {
    "collapsed": false
   },
   "id": "f8ead1cf2f3f7447"
  },
  {
   "cell_type": "code",
   "outputs": [],
   "source": [
    "pie7 = create_pie_chart(population_TM_2)\n",
    "pie7.save(\"Translation_Model/ts_tv_2/pie_chart.png\", width=6, height=4,\n",
    "          dpi=300)\n",
    "\n",
    "freq7 = plot_frequencies(avg_frequencies_TM_2, generations // 50)\n",
    "freq7.save(\"Translation_Model/ts_tv_2/freq_chart.png\", width=6, height=4,\n",
    "           dpi=300)\n",
    "\n",
    "mut7 = plot_mutation_bar_plot(avg_frequencies_TM_2, avg_codon_stats_TM_2, mut_per_bit, generations, pop_size=600)\n",
    "mut7.save(\"Translation_Model/ts_tv_2/mutation.png\", width=6, height=4,\n",
    "          dpi=300)"
   ],
   "metadata": {
    "collapsed": false
   },
   "id": "824342bd5ee789b9"
  }
 ],
 "metadata": {
  "kernelspec": {
   "display_name": "Python 3",
   "language": "python",
   "name": "python3"
  },
  "language_info": {
   "codemirror_mode": {
    "name": "ipython",
    "version": 2
   },
   "file_extension": ".py",
   "mimetype": "text/x-python",
   "name": "python",
   "nbconvert_exporter": "python",
   "pygments_lexer": "ipython2",
   "version": "2.7.6"
  }
 },
 "nbformat": 4,
 "nbformat_minor": 5
}
