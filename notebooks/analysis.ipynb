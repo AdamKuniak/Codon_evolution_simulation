{
 "cells": [
  {
   "cell_type": "code",
   "execution_count": 31,
   "id": "7f7130317a6219b8",
   "metadata": {
    "collapsed": false
   },
   "outputs": [],
   "source": [
    "# Install needed libraries\n",
    "#!pip install pandas biopython requests scipy plotnine"
   ]
  },
  {
   "cell_type": "code",
   "execution_count": 1,
   "id": "88ed5fb3e58a9469",
   "metadata": {
    "collapsed": false,
    "ExecuteTime": {
     "end_time": "2025-04-26T11:30:53.163337Z",
     "start_time": "2025-04-26T11:30:42.579300Z"
    }
   },
   "outputs": [],
   "source": [
    "import pandas as pd\n",
    "from Bio import Entrez\n",
    "from Bio import SeqIO\n",
    "from Bio.Seq import Seq\n",
    "import requests\n",
    "import pickle\n",
    "from scipy.stats import chisquare"
   ]
  },
  {
   "cell_type": "code",
   "execution_count": 2,
   "id": "92f6ff202203e23c",
   "metadata": {
    "collapsed": false,
    "ExecuteTime": {
     "end_time": "2025-04-26T11:30:53.179334Z",
     "start_time": "2025-04-26T11:30:53.165331Z"
    }
   },
   "outputs": [],
   "source": [
    "# Create sets of codons encoding amino acids \n",
    "\n",
    "alanine       = {\"GCT\", \"GCC\", \"GCA\", \"GCG\"}\n",
    "arginine      = {\"CGT\", \"CGC\", \"CGA\", \"CGG\", \"AGA\", \"AGG\"}\n",
    "asparagine    = {\"AAT\", \"AAC\"}\n",
    "aspartic_acid = {\"GAT\", \"GAC\"}\n",
    "cysteine      = {\"TGT\", \"TGC\"}\n",
    "glutamine     = {\"CAT\", \"CAG\"}\n",
    "glutamic_acid = {\"GAA\", \"GAG\"}\n",
    "glycine       = {\"GGT\", \"GGC\", \"GGA\", \"GGG\"}\n",
    "histidine     = {\"CAT\", \"CAC\"}\n",
    "isoleucine    = {\"ATT\", \"ATC\", \"ATA\"}\n",
    "leucine       = {'CTG', 'CTA', 'CTT', 'CTC', 'TTA', 'TTG'}\n",
    "lysine        = {\"AAA\", \"AAG\"}\n",
    "methionine    = {\"ATG\"}\n",
    "phenylalanine = {\"TTT\", \"TTC\"}\n",
    "proline       = {\"CCT\", \"CCC\", \"CCA\", \"CCG\"}\n",
    "serine        = {\"TCT\", \"TCC\", \"TCA\", \"TCG\", \"AGT\", \"AGC\"}\n",
    "threonine     = {\"ACT\", \"ACC\", \"ACA\", \"ACG\"}\n",
    "tryptophan    = {\"TGG\"}\n",
    "tyrosine      = {\"TAT\", \"TAC\"}\n",
    "valine        = {\"GTT\", \"GTC\", \"GTA\", \"GTG\"}\n",
    "stop_codons   = {\"TAA\", \"TAG\", \"TGA\"}\n",
    "\n",
    "amino_acids = {\n",
    "    \"A\": alanine,\n",
    "    \"R\": arginine,\n",
    "    \"N\": asparagine,\n",
    "    \"D\": aspartic_acid,\n",
    "    \"C\": cysteine,\n",
    "    \"Q\": glutamine,\n",
    "    \"E\": glutamic_acid,\n",
    "    \"G\": glycine,\n",
    "    \"H\": histidine,\n",
    "    \"I\": isoleucine,\n",
    "    \"L\": leucine,\n",
    "    \"K\": lysine,\n",
    "    \"M\": methionine,\n",
    "    \"F\": phenylalanine,\n",
    "    \"P\": proline,\n",
    "    \"S\": serine,\n",
    "    \"T\": threonine,\n",
    "    \"W\": tryptophan,\n",
    "    \"Y\": tyrosine,\n",
    "    \"V\": valine,\n",
    "    \"*\": stop_codons\n",
    "}\n",
    "\n",
    "codon_to_amino_acid = {codon: aa for aa, codon_set in amino_acids.items() for codon in codon_set}"
   ]
  },
  {
   "cell_type": "code",
   "execution_count": 3,
   "id": "426497e8d5097cd9",
   "metadata": {
    "collapsed": false,
    "ExecuteTime": {
     "end_time": "2025-04-26T11:31:44.182130Z",
     "start_time": "2025-04-26T11:31:41.248228Z"
    }
   },
   "outputs": [
    {
     "data": {
      "text/plain": "  uniprot_id code  is_reference  resid\n0     P56868  Asp          True      7\n1     P56868  Cys          True     70\n2     P56868  Cys          True    178\n3     P56868  His          True    180\n4     P56868  Ser          True      8",
      "text/html": "<div>\n<style scoped>\n    .dataframe tbody tr th:only-of-type {\n        vertical-align: middle;\n    }\n\n    .dataframe tbody tr th {\n        vertical-align: top;\n    }\n\n    .dataframe thead th {\n        text-align: right;\n    }\n</style>\n<table border=\"1\" class=\"dataframe\">\n  <thead>\n    <tr style=\"text-align: right;\">\n      <th></th>\n      <th>uniprot_id</th>\n      <th>code</th>\n      <th>is_reference</th>\n      <th>resid</th>\n    </tr>\n  </thead>\n  <tbody>\n    <tr>\n      <th>0</th>\n      <td>P56868</td>\n      <td>Asp</td>\n      <td>True</td>\n      <td>7</td>\n    </tr>\n    <tr>\n      <th>1</th>\n      <td>P56868</td>\n      <td>Cys</td>\n      <td>True</td>\n      <td>70</td>\n    </tr>\n    <tr>\n      <th>2</th>\n      <td>P56868</td>\n      <td>Cys</td>\n      <td>True</td>\n      <td>178</td>\n    </tr>\n    <tr>\n      <th>3</th>\n      <td>P56868</td>\n      <td>His</td>\n      <td>True</td>\n      <td>180</td>\n    </tr>\n    <tr>\n      <th>4</th>\n      <td>P56868</td>\n      <td>Ser</td>\n      <td>True</td>\n      <td>8</td>\n    </tr>\n  </tbody>\n</table>\n</div>"
     },
     "execution_count": 3,
     "metadata": {},
     "output_type": "execute_result"
    }
   ],
   "source": [
    "\"\"\"\n",
    "    Download Catalytic sites Atlas data, filter columns and store them in a DataFrame\n",
    "\"\"\"\n",
    "\n",
    "url = \"https://www.ebi.ac.uk/thornton-srv/m-csa/api/residues/?format=json\"\n",
    "data = requests.get(url).json()\n",
    "df = pd.json_normalize(data)\n",
    "parsed = df['residue_sequences'].apply(lambda L: L[0] if isinstance(L, list) and len(L) > 0 else {})\n",
    "df = pd.DataFrame(parsed.tolist())\n",
    "df.to_csv(\"M-CSA_API_data.csv\")\n",
    "df.head()"
   ]
  },
  {
   "cell_type": "code",
   "execution_count": 4,
   "id": "b57b2ba5520b1d2c",
   "metadata": {
    "collapsed": false,
    "ExecuteTime": {
     "end_time": "2025-04-26T11:31:44.228127Z",
     "start_time": "2025-04-26T11:31:44.184131Z"
    }
   },
   "outputs": [],
   "source": [
    "# Rename columns and filter rows only with leucine, arginine and serine\n",
    "selected_columns = [\"uniprot_id\", \"code\", \"resid\"]\n",
    "df = df[selected_columns]\n",
    "df = df.rename(columns={\"code\": \"residue\", \"resid\": \"position\"})\n",
    "df = df.drop_duplicates()\n",
    "df = df.dropna()\n",
    "\n",
    "interesting_AA = [\"Arg\", \"Leu\", \"Ser\"]\n",
    "df_filtered = df[df['residue'].isin(interesting_AA)]"
   ]
  },
  {
   "cell_type": "code",
   "execution_count": 5,
   "id": "d27b09fcb47684c8",
   "metadata": {
    "collapsed": false,
    "ExecuteTime": {
     "end_time": "2025-04-26T11:32:05.197585Z",
     "start_time": "2025-04-26T11:32:05.185553Z"
    }
   },
   "outputs": [],
   "source": [
    "# Get unique uniprot IDs\n",
    "unique_uniprot_ids = df_filtered['uniprot_id'].dropna().astype(str).unique().tolist()\n",
    "\n",
    "# store them in a text file if needed\n",
    "with open(\"unique_uniprot_ids.txt\", \"w\") as f:\n",
    "    f.write(\"\\n\".join(unique_uniprot_ids))"
   ]
  },
  {
   "cell_type": "code",
   "execution_count": 6,
   "id": "5b04082be069588b",
   "metadata": {
    "collapsed": false,
    "ExecuteTime": {
     "end_time": "2025-04-26T11:32:08.063423Z",
     "start_time": "2025-04-26T11:32:08.029423Z"
    }
   },
   "outputs": [
    {
     "data": {
      "text/plain": "   uniprot_id                                           position  \\\n0              [233, 235, 351, 169, 155, 158, 131, 118, 261, ...   \n1  A0A0F6FBL7                                               [14]   \n2      A4XF23                                         [147, 283]   \n3      A5JUY8                                              [307]   \n4      O04147                                              [121]   \n\n                                             residue  \n0  [Ser, Ser, Ser, Ser, Ser, Arg, Ser, Ser, Ser, ...  \n1                                              [Ser]  \n2                                         [Arg, Arg]  \n3                                              [Ser]  \n4                                              [Ser]  ",
      "text/html": "<div>\n<style scoped>\n    .dataframe tbody tr th:only-of-type {\n        vertical-align: middle;\n    }\n\n    .dataframe tbody tr th {\n        vertical-align: top;\n    }\n\n    .dataframe thead th {\n        text-align: right;\n    }\n</style>\n<table border=\"1\" class=\"dataframe\">\n  <thead>\n    <tr style=\"text-align: right;\">\n      <th></th>\n      <th>uniprot_id</th>\n      <th>position</th>\n      <th>residue</th>\n    </tr>\n  </thead>\n  <tbody>\n    <tr>\n      <th>0</th>\n      <td></td>\n      <td>[233, 235, 351, 169, 155, 158, 131, 118, 261, ...</td>\n      <td>[Ser, Ser, Ser, Ser, Ser, Arg, Ser, Ser, Ser, ...</td>\n    </tr>\n    <tr>\n      <th>1</th>\n      <td>A0A0F6FBL7</td>\n      <td>[14]</td>\n      <td>[Ser]</td>\n    </tr>\n    <tr>\n      <th>2</th>\n      <td>A4XF23</td>\n      <td>[147, 283]</td>\n      <td>[Arg, Arg]</td>\n    </tr>\n    <tr>\n      <th>3</th>\n      <td>A5JUY8</td>\n      <td>[307]</td>\n      <td>[Ser]</td>\n    </tr>\n    <tr>\n      <th>4</th>\n      <td>O04147</td>\n      <td>[121]</td>\n      <td>[Ser]</td>\n    </tr>\n  </tbody>\n</table>\n</div>"
     },
     "execution_count": 6,
     "metadata": {},
     "output_type": "execute_result"
    }
   ],
   "source": [
    "# Load unique uniprot IDs if needed\n",
    "# with open(\"C:/Users\\ASUS\\PycharmProjects\\CodonVolatilitySimulation/unique_uniprot_ids.txt\", \"r\") as f:\n",
    "#    unique_ids = set(f.read().splitlines())\n",
    "\n",
    "# Merge residues from same protein to one line\n",
    "df_merged = df_filtered.groupby(\"uniprot_id\")[[\"position\", \"residue\"]].agg(list).reset_index()\n",
    "df_merged = df_merged[df_merged[\"uniprot_id\"].isin(unique_uniprot_ids)]\n",
    "df_merged.head()"
   ]
  },
  {
   "cell_type": "code",
   "execution_count": 7,
   "id": "e54f9c7458978444",
   "metadata": {
    "collapsed": false,
    "ExecuteTime": {
     "end_time": "2025-04-26T11:33:30.257323Z",
     "start_time": "2025-04-26T11:32:18.953144Z"
    }
   },
   "outputs": [
    {
     "name": "stdout",
     "output_type": "stream",
     "text": [
      "Failed to fetch : HTTP 404\n"
     ]
    },
    {
     "data": {
      "text/plain": "  uniprot_id genBank_id\n0     P56868   AF212972\n1     P62593     J01749\n2     P62593     V00613\n3     P62593     X64523\n4     P62593     X57972",
      "text/html": "<div>\n<style scoped>\n    .dataframe tbody tr th:only-of-type {\n        vertical-align: middle;\n    }\n\n    .dataframe tbody tr th {\n        vertical-align: top;\n    }\n\n    .dataframe thead th {\n        text-align: right;\n    }\n</style>\n<table border=\"1\" class=\"dataframe\">\n  <thead>\n    <tr style=\"text-align: right;\">\n      <th></th>\n      <th>uniprot_id</th>\n      <th>genBank_id</th>\n    </tr>\n  </thead>\n  <tbody>\n    <tr>\n      <th>0</th>\n      <td>P56868</td>\n      <td>AF212972</td>\n    </tr>\n    <tr>\n      <th>1</th>\n      <td>P62593</td>\n      <td>J01749</td>\n    </tr>\n    <tr>\n      <th>2</th>\n      <td>P62593</td>\n      <td>V00613</td>\n    </tr>\n    <tr>\n      <th>3</th>\n      <td>P62593</td>\n      <td>X64523</td>\n    </tr>\n    <tr>\n      <th>4</th>\n      <td>P62593</td>\n      <td>X57972</td>\n    </tr>\n  </tbody>\n</table>\n</div>"
     },
     "execution_count": 7,
     "metadata": {},
     "output_type": "execute_result"
    }
   ],
   "source": [
    "def fetch_genbank_ids(uniprot_id: str) -> list[str]:\n",
    "    \"\"\"\n",
    "    Retrieves GenBank ID corresponding to a given UniProt ID.\n",
    "    \"\"\"\n",
    "    url = f\"https://rest.uniprot.org/uniprotkb/{uniprot_id}.json\"\n",
    "    resp = requests.get(url)\n",
    "    if not resp.ok:\n",
    "        print(f\"Failed to fetch {uniprot_id}: HTTP {resp.status_code}\")\n",
    "        return []\n",
    "    record = resp.json()\n",
    "    xrefs = record.get(\"uniProtKBCrossReferences\", [])\n",
    "    embl_refs = [xr[\"id\"] for xr in xrefs if xr[\"database\"] == \"EMBL\"]\n",
    "    return embl_refs\n",
    "\n",
    "# Loop over your list and build a mapping dictionary\n",
    "mapping = {}\n",
    "for uid in unique_uniprot_ids:\n",
    "    mapping[uid] = fetch_genbank_ids(uid)\n",
    "\n",
    "# Create a dataframe\n",
    "rows = []\n",
    "for uid, gb_list in mapping.items():\n",
    "    if gb_list:\n",
    "        for gb in gb_list:\n",
    "            rows.append({\"uniprot_id\": uid, \"genBank_id\": gb})\n",
    "    else:\n",
    "        rows.append({\"uniprot_id\": uid, \"genBank_id\": None})\n",
    "\n",
    "uniprot_to_genbank_ids_df = pd.DataFrame(rows)\n",
    "uniprot_to_genbank_ids_df.to_csv(\"uniprot_to_genbank.csv\")\n",
    "# get unique IDs of nucleotide sequences\n",
    "unique_genBank_ids = uniprot_to_genbank_ids_df['genBank_id'].dropna().astype(str).unique().tolist()\n",
    "uniprot_to_genbank_ids_df.head()"
   ]
  },
  {
   "cell_type": "code",
   "execution_count": 8,
   "id": "2f8ee7d3f0a00fc3",
   "metadata": {
    "collapsed": false,
    "ExecuteTime": {
     "end_time": "2025-04-26T11:33:30.289321Z",
     "start_time": "2025-04-26T11:33:30.259322Z"
    }
   },
   "outputs": [
    {
     "data": {
      "text/plain": "  uniprot_id    position     residue genBank_id\n2     A4XF23  [147, 283]  [Arg, Arg]   CP000677\n3     A5JUY8       [307]       [Ser]   EF580919\n4     A5JUY8       [307]       [Ser]   HQ285238\n5     O04147       [121]       [Ser]     Y11650\n6     O04147       [121]       [Ser]   AL021711",
      "text/html": "<div>\n<style scoped>\n    .dataframe tbody tr th:only-of-type {\n        vertical-align: middle;\n    }\n\n    .dataframe tbody tr th {\n        vertical-align: top;\n    }\n\n    .dataframe thead th {\n        text-align: right;\n    }\n</style>\n<table border=\"1\" class=\"dataframe\">\n  <thead>\n    <tr style=\"text-align: right;\">\n      <th></th>\n      <th>uniprot_id</th>\n      <th>position</th>\n      <th>residue</th>\n      <th>genBank_id</th>\n    </tr>\n  </thead>\n  <tbody>\n    <tr>\n      <th>2</th>\n      <td>A4XF23</td>\n      <td>[147, 283]</td>\n      <td>[Arg, Arg]</td>\n      <td>CP000677</td>\n    </tr>\n    <tr>\n      <th>3</th>\n      <td>A5JUY8</td>\n      <td>[307]</td>\n      <td>[Ser]</td>\n      <td>EF580919</td>\n    </tr>\n    <tr>\n      <th>4</th>\n      <td>A5JUY8</td>\n      <td>[307]</td>\n      <td>[Ser]</td>\n      <td>HQ285238</td>\n    </tr>\n    <tr>\n      <th>5</th>\n      <td>O04147</td>\n      <td>[121]</td>\n      <td>[Ser]</td>\n      <td>Y11650</td>\n    </tr>\n    <tr>\n      <th>6</th>\n      <td>O04147</td>\n      <td>[121]</td>\n      <td>[Ser]</td>\n      <td>AL021711</td>\n    </tr>\n  </tbody>\n</table>\n</div>"
     },
     "execution_count": 8,
     "metadata": {},
     "output_type": "execute_result"
    }
   ],
   "source": [
    "# Add GenBank ID to my dataframe\n",
    "column_to_add = [\"genBank_id\"]\n",
    "df_merged = df_merged.merge(uniprot_to_genbank_ids_df[[\"uniprot_id\"] + column_to_add], on=\"uniprot_id\", how=\"left\")\n",
    "df_merged = df_merged.dropna(subset=['genBank_id'])\n",
    "df_merged.head()"
   ]
  },
  {
   "cell_type": "code",
   "execution_count": 9,
   "id": "d2854d20b868aec4",
   "metadata": {
    "collapsed": false,
    "ExecuteTime": {
     "end_time": "2025-04-26T11:36:46.640979Z",
     "start_time": "2025-04-26T11:33:30.293321Z"
    }
   },
   "outputs": [
    {
     "data": {
      "text/plain": "  uniprot_id    position     residue genBank_id  \\\n2     A4XF23  [147, 283]  [Arg, Arg]   CP000677   \n3     A5JUY8       [307]       [Ser]   EF580919   \n4     A5JUY8       [307]       [Ser]   HQ285238   \n5     O04147       [121]       [Ser]     Y11650   \n6     O04147       [121]       [Ser]   AL021711   \n\n                                 nucleotide_sequence  \n2  GCTATGCAAGCGCTATCATCAGTTGCAAGACATGTCCTGAAGGGAG...  \n3  ATGTGGGTCTGTCTCCAACTTCCAGTCTTTTTGGCTTCCGTGACCT...  \n4  AGTGTGGGAGGCTGTGGAGTCCGGGCCCCTAATTCTCCCTGGAGGC...  \n5  ATTAACGTATTCCCTGATTAGTACAACTAATATAAAATGTTAATCT...  \n6  TAAAACGGAGAGAGCGAGGAAAGCGAAGAAAACAAATCTTGGATGG...  ",
      "text/html": "<div>\n<style scoped>\n    .dataframe tbody tr th:only-of-type {\n        vertical-align: middle;\n    }\n\n    .dataframe tbody tr th {\n        vertical-align: top;\n    }\n\n    .dataframe thead th {\n        text-align: right;\n    }\n</style>\n<table border=\"1\" class=\"dataframe\">\n  <thead>\n    <tr style=\"text-align: right;\">\n      <th></th>\n      <th>uniprot_id</th>\n      <th>position</th>\n      <th>residue</th>\n      <th>genBank_id</th>\n      <th>nucleotide_sequence</th>\n    </tr>\n  </thead>\n  <tbody>\n    <tr>\n      <th>2</th>\n      <td>A4XF23</td>\n      <td>[147, 283]</td>\n      <td>[Arg, Arg]</td>\n      <td>CP000677</td>\n      <td>GCTATGCAAGCGCTATCATCAGTTGCAAGACATGTCCTGAAGGGAG...</td>\n    </tr>\n    <tr>\n      <th>3</th>\n      <td>A5JUY8</td>\n      <td>[307]</td>\n      <td>[Ser]</td>\n      <td>EF580919</td>\n      <td>ATGTGGGTCTGTCTCCAACTTCCAGTCTTTTTGGCTTCCGTGACCT...</td>\n    </tr>\n    <tr>\n      <th>4</th>\n      <td>A5JUY8</td>\n      <td>[307]</td>\n      <td>[Ser]</td>\n      <td>HQ285238</td>\n      <td>AGTGTGGGAGGCTGTGGAGTCCGGGCCCCTAATTCTCCCTGGAGGC...</td>\n    </tr>\n    <tr>\n      <th>5</th>\n      <td>O04147</td>\n      <td>[121]</td>\n      <td>[Ser]</td>\n      <td>Y11650</td>\n      <td>ATTAACGTATTCCCTGATTAGTACAACTAATATAAAATGTTAATCT...</td>\n    </tr>\n    <tr>\n      <th>6</th>\n      <td>O04147</td>\n      <td>[121]</td>\n      <td>[Ser]</td>\n      <td>AL021711</td>\n      <td>TAAAACGGAGAGAGCGAGGAAAGCGAAGAAAACAAATCTTGGATGG...</td>\n    </tr>\n  </tbody>\n</table>\n</div>"
     },
     "execution_count": 9,
     "metadata": {},
     "output_type": "execute_result"
    }
   ],
   "source": [
    "# Download Fasta files of nucleotides from NCBI\n",
    "Entrez.email = \"kuniaka@natur.cuni.cz\"\n",
    "with Entrez.efetch(db=\"nucleotide\", id=unique_genBank_ids, rettype=\"fasta\", retmode=\"text\") as handle:\n",
    "    seq_records = SeqIO.to_dict(SeqIO.parse(handle, \"fasta\"))\n",
    "    seq_dict = {rec_id.split(\".\")[0]: str(rec.seq) for rec_id, rec in seq_records.items()}\n",
    "    \n",
    "df_merged['nucleotide_sequence'] = df_merged['genBank_id'].map(seq_dict)\n",
    "df_merged.head()"
   ]
  },
  {
   "cell_type": "code",
   "execution_count": 17,
   "id": "d20d0252695f3995",
   "metadata": {
    "collapsed": false,
    "ExecuteTime": {
     "end_time": "2025-04-26T11:43:37.001865Z",
     "start_time": "2025-04-26T11:42:40.743877Z"
    }
   },
   "outputs": [
    {
     "data": {
      "text/plain": "  uniprot_id                                   protein_sequence  \\\n0     P56868  MKIGIFDSGVGGLTVLKAIRNRYRKVDIVYLGDTARVPYGIRSKDT...   \n1     P62593  MSIQHFRVALIPFFAAFCLPVFAHPETLVKVKDAEDQLGARVGYIE...   \n2     P08819  VEPSGHAADRIARLPGQPAVDFDMYSGYITVDEGAGRSLFYLLQEA...   \n3     P9WJJ7  MGLSDWELAAARAAIARGLDEDLRYGPDVTTLATVPASATTTASLV...   \n4     P31153  MNGQLNGFHEAFIEEGTFLFTSESVGEGHPDKICDQISDAVLDAHL...   \n\n   prot_seq_length                                           organism  \n0              254                                 Aquifex pyrophilus  \n1              286                                   Escherichia coli  \n2              444                                  Triticum aestivum  \n3              285  Mycobacterium tuberculosis (strain ATCC 25618 ...  \n4              395                                       Homo sapiens  ",
      "text/html": "<div>\n<style scoped>\n    .dataframe tbody tr th:only-of-type {\n        vertical-align: middle;\n    }\n\n    .dataframe tbody tr th {\n        vertical-align: top;\n    }\n\n    .dataframe thead th {\n        text-align: right;\n    }\n</style>\n<table border=\"1\" class=\"dataframe\">\n  <thead>\n    <tr style=\"text-align: right;\">\n      <th></th>\n      <th>uniprot_id</th>\n      <th>protein_sequence</th>\n      <th>prot_seq_length</th>\n      <th>organism</th>\n    </tr>\n  </thead>\n  <tbody>\n    <tr>\n      <th>0</th>\n      <td>P56868</td>\n      <td>MKIGIFDSGVGGLTVLKAIRNRYRKVDIVYLGDTARVPYGIRSKDT...</td>\n      <td>254</td>\n      <td>Aquifex pyrophilus</td>\n    </tr>\n    <tr>\n      <th>1</th>\n      <td>P62593</td>\n      <td>MSIQHFRVALIPFFAAFCLPVFAHPETLVKVKDAEDQLGARVGYIE...</td>\n      <td>286</td>\n      <td>Escherichia coli</td>\n    </tr>\n    <tr>\n      <th>2</th>\n      <td>P08819</td>\n      <td>VEPSGHAADRIARLPGQPAVDFDMYSGYITVDEGAGRSLFYLLQEA...</td>\n      <td>444</td>\n      <td>Triticum aestivum</td>\n    </tr>\n    <tr>\n      <th>3</th>\n      <td>P9WJJ7</td>\n      <td>MGLSDWELAAARAAIARGLDEDLRYGPDVTTLATVPASATTTASLV...</td>\n      <td>285</td>\n      <td>Mycobacterium tuberculosis (strain ATCC 25618 ...</td>\n    </tr>\n    <tr>\n      <th>4</th>\n      <td>P31153</td>\n      <td>MNGQLNGFHEAFIEEGTFLFTSESVGEGHPDKICDQISDAVLDAHL...</td>\n      <td>395</td>\n      <td>Homo sapiens</td>\n    </tr>\n  </tbody>\n</table>\n</div>"
     },
     "execution_count": 17,
     "metadata": {},
     "output_type": "execute_result"
    }
   ],
   "source": [
    "def fetch_uniprot_record(uid: str) -> dict:\n",
    "    \"\"\"\n",
    "    Fetches the UniProt entry for a given id and extracts its sequence data and length.\n",
    "    \n",
    "    Returns a dictionary with the keys \"uniprot_id\", \"protein_sequence\", \"length\" and \"organism\"\n",
    "    \"\"\"\n",
    "    url = f\"https://rest.uniprot.org/uniprotkb/{uid}.json\"\n",
    "    r = requests.get(url)\n",
    "    r.raise_for_status()\n",
    "    rec = r.json()\n",
    "    seq_obj = rec.get(\"sequence\", {})\n",
    "    org_obj = rec.get(\"organism\", {})\n",
    "    return {\n",
    "        \"uniprot_id\": uid,\n",
    "        \"protein_sequence\": seq_obj.get(\"value\"),\n",
    "        \"prot_seq_length\": seq_obj.get(\"length\"),\n",
    "        \"organism\": org_obj.get(\"scientificName\"),\n",
    "    }\n",
    "\n",
    "unique_uniprot_ids = [uid for uid in unique_uniprot_ids if str(uid).strip()]\n",
    "records = [fetch_uniprot_record(uid) for uid in unique_uniprot_ids]\n",
    "protein_df = pd.DataFrame(records)\n",
    "protein_df = protein_df.dropna(subset=['protein_sequence'])\n",
    "protein_df['prot_seq_length'] = protein_df['prot_seq_length'].astype(int)\n",
    "protein_df.head()"
   ]
  },
  {
   "cell_type": "code",
   "execution_count": 18,
   "id": "709f80fa51f6c826",
   "metadata": {
    "collapsed": false,
    "ExecuteTime": {
     "end_time": "2025-04-26T11:43:37.049395Z",
     "start_time": "2025-04-26T11:43:37.005865Z"
    }
   },
   "outputs": [
    {
     "data": {
      "text/plain": "   uniprot_id    position     residue genBank_id  \\\n0      A4XF23  [147, 283]  [Arg, Arg]   CP000677   \n1      A5JUY8       [307]       [Ser]   EF580919   \n3      O04147       [121]       [Ser]     Y11650   \n9      O13297       [393]       [Arg]   AB008799   \n14     O28603  [265, 449]  [Arg, Ser]   AE000782   \n\n                                  nucleotide_sequence  \\\n0   GCTATGCAAGCGCTATCATCAGTTGCAAGACATGTCCTGAAGGGAG...   \n1   ATGTGGGTCTGTCTCCAACTTCCAGTCTTTTTGGCTTCCGTGACCT...   \n3   ATTAACGTATTCCCTGATTAGTACAACTAATATAAAATGTTAATCT...   \n9   AAAGATCTGCTGGGAATACTATACTGATATTTCCAAAATATCCCTT...   \n14  GAAAATGGTTTAATCGGAAATTGAGTAGGAGGATAAAAGTCGCATG...   \n\n                                     protein_sequence  prot_seq_length  \\\n0   MKITAARVIITCPGRNFVTLKIETDQGVYGIGDATLNGRELSVVAY...              402   \n1   MWVCLQLPVFLASVTLFEVAASDTIAQAASTTTISDAVSKVKIQVN...              712   \n3   MEEVKKDVYSVWALPDEESEPRFKKLMEALRSEFTGPRFVPHVTVA...              181   \n9   MSYTDNPPQTKRALSLDDLVNHDENEKVKLQKLSEAANGSRPFAEN...              549   \n14  MVYYPKKYELYKADEVPTEVVETDILIIGGGFSGCGAAYEAAYWAK...              643   \n\n                                             organism  \n0   Novosphingobium aromaticivorans (strain ATCC 7...  \n1                                     Bubalus bubalis  \n3                                Arabidopsis thaliana  \n9   Saccharomyces cerevisiae (strain ATCC 204508 /...  \n14  Archaeoglobus fulgidus (strain ATCC 49558 / DS...  ",
      "text/html": "<div>\n<style scoped>\n    .dataframe tbody tr th:only-of-type {\n        vertical-align: middle;\n    }\n\n    .dataframe tbody tr th {\n        vertical-align: top;\n    }\n\n    .dataframe thead th {\n        text-align: right;\n    }\n</style>\n<table border=\"1\" class=\"dataframe\">\n  <thead>\n    <tr style=\"text-align: right;\">\n      <th></th>\n      <th>uniprot_id</th>\n      <th>position</th>\n      <th>residue</th>\n      <th>genBank_id</th>\n      <th>nucleotide_sequence</th>\n      <th>protein_sequence</th>\n      <th>prot_seq_length</th>\n      <th>organism</th>\n    </tr>\n  </thead>\n  <tbody>\n    <tr>\n      <th>0</th>\n      <td>A4XF23</td>\n      <td>[147, 283]</td>\n      <td>[Arg, Arg]</td>\n      <td>CP000677</td>\n      <td>GCTATGCAAGCGCTATCATCAGTTGCAAGACATGTCCTGAAGGGAG...</td>\n      <td>MKITAARVIITCPGRNFVTLKIETDQGVYGIGDATLNGRELSVVAY...</td>\n      <td>402</td>\n      <td>Novosphingobium aromaticivorans (strain ATCC 7...</td>\n    </tr>\n    <tr>\n      <th>1</th>\n      <td>A5JUY8</td>\n      <td>[307]</td>\n      <td>[Ser]</td>\n      <td>EF580919</td>\n      <td>ATGTGGGTCTGTCTCCAACTTCCAGTCTTTTTGGCTTCCGTGACCT...</td>\n      <td>MWVCLQLPVFLASVTLFEVAASDTIAQAASTTTISDAVSKVKIQVN...</td>\n      <td>712</td>\n      <td>Bubalus bubalis</td>\n    </tr>\n    <tr>\n      <th>3</th>\n      <td>O04147</td>\n      <td>[121]</td>\n      <td>[Ser]</td>\n      <td>Y11650</td>\n      <td>ATTAACGTATTCCCTGATTAGTACAACTAATATAAAATGTTAATCT...</td>\n      <td>MEEVKKDVYSVWALPDEESEPRFKKLMEALRSEFTGPRFVPHVTVA...</td>\n      <td>181</td>\n      <td>Arabidopsis thaliana</td>\n    </tr>\n    <tr>\n      <th>9</th>\n      <td>O13297</td>\n      <td>[393]</td>\n      <td>[Arg]</td>\n      <td>AB008799</td>\n      <td>AAAGATCTGCTGGGAATACTATACTGATATTTCCAAAATATCCCTT...</td>\n      <td>MSYTDNPPQTKRALSLDDLVNHDENEKVKLQKLSEAANGSRPFAEN...</td>\n      <td>549</td>\n      <td>Saccharomyces cerevisiae (strain ATCC 204508 /...</td>\n    </tr>\n    <tr>\n      <th>14</th>\n      <td>O28603</td>\n      <td>[265, 449]</td>\n      <td>[Arg, Ser]</td>\n      <td>AE000782</td>\n      <td>GAAAATGGTTTAATCGGAAATTGAGTAGGAGGATAAAAGTCGCATG...</td>\n      <td>MVYYPKKYELYKADEVPTEVVETDILIIGGGFSGCGAAYEAAYWAK...</td>\n      <td>643</td>\n      <td>Archaeoglobus fulgidus (strain ATCC 49558 / DS...</td>\n    </tr>\n  </tbody>\n</table>\n</div>"
     },
     "execution_count": 18,
     "metadata": {},
     "output_type": "execute_result"
    }
   ],
   "source": [
    "# Add protein sequence from uniprot to dataframe\n",
    "columns_to_add = [\"protein_sequence\", \"prot_seq_length\", \"organism\"]\n",
    "df_merged_all = df_merged.merge(protein_df[[\"uniprot_id\"] + columns_to_add], on=\"uniprot_id\", how=\"left\")\n",
    "df_merged_all = df_merged_all.drop_duplicates(subset=[\"uniprot_id\"], keep=\"first\")\n",
    "df_merged_all[\"residue\"] = df_merged_all[\"residue\"].apply(lambda L: [str(i) for i in L])\n",
    "df_merged_all[\"position\"] = df_merged_all[\"position\"].apply(lambda L: [int(i) for i in L])\n",
    "df_merged_all.head()"
   ]
  },
  {
   "cell_type": "code",
   "execution_count": 19,
   "id": "2742d3d3ccd7b3e0",
   "metadata": {
    "collapsed": false,
    "ExecuteTime": {
     "end_time": "2025-04-26T11:43:37.064506Z",
     "start_time": "2025-04-26T11:43:37.051471Z"
    }
   },
   "outputs": [],
   "source": [
    "def translate(nucleotide_seq):\n",
    "    \"\"\"\n",
    "    Pads the nucleotide sequence with trailing 'N's if needed and translates it.\n",
    "    \"\"\"\n",
    "    nucleotide_seq = str(nucleotide_seq)\n",
    "    remainder = len(nucleotide_seq) % 3\n",
    "    if remainder:\n",
    "        nucleotide_seq += 'N' * (3 - remainder)\n",
    "    return Seq(nucleotide_seq).translate(to_stop=False)\n",
    "\n",
    "def translate_all_frames(nucleotide_seq):\n",
    "    \"\"\"\n",
    "    Translates the nucleotide sequence in all six reading frames (three forward and three reverse) and returns them in a list\n",
    "    \"\"\"\n",
    "    nucleotide_seq = str(nucleotide_seq)\n",
    "    # Forward frames\n",
    "    forward_frames = [translate(nucleotide_seq[frame:]) for frame in range(3)]\n",
    "    # Reverse complement frames\n",
    "    rev_seq = str(Seq(nucleotide_seq).reverse_complement())\n",
    "    reverse_frames = [translate(rev_seq[frame:]) for frame in range(3)]\n",
    "    \n",
    "    return forward_frames + reverse_frames"
   ]
  },
  {
   "cell_type": "code",
   "execution_count": 22,
   "id": "378b5c4f472ae403",
   "metadata": {
    "collapsed": false,
    "ExecuteTime": {
     "end_time": "2025-04-26T11:43:52.330650Z",
     "start_time": "2025-04-26T11:43:52.304642Z"
    }
   },
   "outputs": [],
   "source": [
    "def align_seqs(df):\n",
    "    \"\"\"\n",
    "    Align protein sequences to their nucleotide sequences, identify the correct reading frame,\n",
    "    and extract codons at binding and non-binding positions.\n",
    "    \n",
    "    Returns a copy of the input with added columns:\n",
    "        - \"translated_sequence\": the full translation in the matching frame\n",
    "        - \"binding_position\": list of codons at the binding positions\n",
    "        - \"non_binding_position\": list of codons for non-binding residues (R, L, S)\n",
    "        - \"non_binding_AA\": list of the corresponding non-binding amino acids\n",
    "    \"\"\"\n",
    "    df = df.copy()\n",
    "    binding_positions = []\n",
    "    non_binding_positions = []\n",
    "    non_binding_AA_list = []\n",
    "    \n",
    "    for idx, row in df.iterrows():\n",
    "        found = False\n",
    "        p_length = int(row[\"prot_seq_length\"])\n",
    "        protein_sequence = str(row[\"protein_sequence\"])\n",
    "        nucleotide_sequence = str(row[\"nucleotide_sequence\"])\n",
    "        \n",
    "        # Calculate forward and reverse nucleotide sequences and get all six translations.\n",
    "        forward_seq = nucleotide_sequence\n",
    "        rev_seq = str(Seq(nucleotide_sequence).reverse_complement())\n",
    "        translations = translate_all_frames(nucleotide_sequence)\n",
    "        \n",
    "        for frame_idx, translated_sequence in enumerate(translations):\n",
    "            translated_sequence = str(translated_sequence)\n",
    "\n",
    "            for i, aa in enumerate(translated_sequence):\n",
    "                if aa == \"M\" and protein_sequence == translated_sequence[i:i+p_length]:\n",
    "                    offset = i\n",
    "                    # Determine which nucleotide sequence to use based on the reading frame.\n",
    "                    if frame_idx < 3:\n",
    "                        selected_nuc_seq = forward_seq\n",
    "                    else:\n",
    "                        selected_nuc_seq = rev_seq\n",
    "                    \n",
    "                    df.loc[idx, \"translated_sequence\"] = translated_sequence\n",
    "                    \n",
    "                    # Extract binding codons from the correct nucleotide sequence.\n",
    "                    binding_codons = []\n",
    "                    for position in row[\"position\"]:\n",
    "                        start = frame_idx % 3 + 3 * (offset + int(position) - 1)\n",
    "                        codon = selected_nuc_seq[start:start+3]\n",
    "                        binding_codons.append(codon)\n",
    "                    binding_positions.append(binding_codons)\n",
    "                    \n",
    "                    # Extract non-binding codons similarly.\n",
    "                    non_binding_codons = []\n",
    "                    non_binding_AA = []\n",
    "                    for j, AA in enumerate(protein_sequence):\n",
    "                        if AA in {\"R\", \"L\", \"S\"}:\n",
    "                            start = frame_idx % 3 + 3 * (offset + j)\n",
    "                            codon = selected_nuc_seq[start:start+3]\n",
    "                            non_binding_codons.append(codon)\n",
    "                            non_binding_AA.append(AA)\n",
    "                    non_binding_positions.append(non_binding_codons)\n",
    "                    non_binding_AA_list.append(non_binding_AA)\n",
    "                    \n",
    "                    found = True\n",
    "                    break\n",
    "            if found:\n",
    "                break\n",
    "        \n",
    "        if not found:\n",
    "            binding_positions.append([])\n",
    "            non_binding_positions.append([])\n",
    "            non_binding_AA_list.append([])\n",
    "        \n",
    "    df.loc[:, \"binding_position\"] = pd.Series(binding_positions, index=df.index)\n",
    "    df.loc[:, \"non_binding_position\"] = pd.Series(non_binding_positions, index=df.index)\n",
    "    df.loc[:, \"non_binding_AA\"] = pd.Series(non_binding_AA_list, index=df.index)\n",
    "    \n",
    "    df = df[df[\"binding_position\"].apply(lambda x: len(x) > 0)]\n",
    "    \n",
    "    return df"
   ]
  },
  {
   "cell_type": "code",
   "execution_count": 23,
   "id": "da25b0c9656a6965",
   "metadata": {
    "collapsed": false,
    "ExecuteTime": {
     "end_time": "2025-04-26T11:45:21.881288Z",
     "start_time": "2025-04-26T11:43:53.111177Z"
    }
   },
   "outputs": [
    {
     "data": {
      "text/plain": "     uniprot_id         position          residue genBank_id  \\\n0        A4XF23       [147, 283]       [Arg, Arg]   CP000677   \n1        A5JUY8            [307]            [Ser]   EF580919   \n3        O04147            [121]            [Ser]     Y11650   \n14       O28603       [265, 449]       [Arg, Ser]   AE000782   \n15       O31156            [157]            [Arg]   AF030979   \n...         ...              ...              ...        ...   \n2196     Q9XBQ8  [112, 116, 134]  [Arg, Arg, Arg]   AF159146   \n2208     Q9Y7P0             [41]            [Ser]   AF505789   \n2212     Q9ZAG3             [99]            [Arg]     Y18005   \n2214     Q9ZBA9             [62]            [Ser]     M84523   \n2216     Q9ZHG9            [360]            [Arg]   AF061964   \n\n                                    nucleotide_sequence  \\\n0     GCTATGCAAGCGCTATCATCAGTTGCAAGACATGTCCTGAAGGGAG...   \n1     ATGTGGGTCTGTCTCCAACTTCCAGTCTTTTTGGCTTCCGTGACCT...   \n3     ATTAACGTATTCCCTGATTAGTACAACTAATATAAAATGTTAATCT...   \n14    GAAAATGGTTTAATCGGAAATTGAGTAGGAGGATAAAAGTCGCATG...   \n15    ATGGACAGAATGAAAATTGAAGCAGTTATTTTTGATTGGGCAGGGA...   \n...                                                 ...   \n2196  ATGATAAATAGAAGATATGAATTATTTAAAGATGTTAGCGATGCAG...   \n2208  ATGTTTACAGGTCTTGTTGAAGCCATTGGTGTTGTTAAAGATGTTC...   \n2212  AGATGCAGAGTTCACTCGCCAGGTGTTGCGAACTGGGACATTGACA...   \n2214  GCGCCAGTGACATTCGGTTACAGTGAGGGCGAGCTTAACCATTGGG...   \n2216  ATTTCCGGTCTGAATTCAGGGAAAAAAAGTTCAAGGGCTGAGTATG...   \n\n                                       protein_sequence  prot_seq_length  \\\n0     MKITAARVIITCPGRNFVTLKIETDQGVYGIGDATLNGRELSVVAY...              402   \n1     MWVCLQLPVFLASVTLFEVAASDTIAQAASTTTISDAVSKVKIQVN...              712   \n3     MEEVKKDVYSVWALPDEESEPRFKKLMEALRSEFTGPRFVPHVTVA...              181   \n14    MVYYPKKYELYKADEVPTEVVETDILIIGGGFSGCGAAYEAAYWAK...              643   \n15    MKIEAVIFDWAGTTVDYGCFAPLEVFMEIFHKRGVAITAEEARKPM...              264   \n...                                                 ...              ...   \n2196  MINRRYELFKDVSDADWNDWRWQVRNRIETVEELKKYIPLTKEEEE...              416   \n2208  MFTGLVEAIGVVKDVQGTIDNGFAMKIEAPQILDDCHTGDSIAVNG...              208   \n2212  MTSKIEQPRWASKDSAAGAASTPDEKIVLEFMDALTSNDAAKLIEY...              149   \n2214  MSKFDTSALEAFVRHIPQNYKGPGGVVAVVKDGEVVLQHAWGFADL...              520   \n2216  MADPVNLIPDRHQFPGLANKTYFNFGGQGILPTVALEAITAMYGYL...              393   \n\n                                               organism  \\\n0     Novosphingobium aromaticivorans (strain ATCC 7...   \n1                                       Bubalus bubalis   \n3                                  Arabidopsis thaliana   \n14    Archaeoglobus fulgidus (strain ATCC 49558 / DS...   \n15                                      Bacillus cereus   \n...                                                 ...   \n2196                           Clostridium subterminale   \n2208  Schizosaccharomyces pombe (strain 972 / ATCC 2...   \n2212                           Rhodococcus erythropolis   \n2214                                  Brucella anthropi   \n2216                Synechocystis sp. (strain PCC 6714)   \n\n                                    translated_sequence binding_position  \\\n0     LRRDICTAP*PRPCKISTPRFPKTSTARMPNMRACAASVPLRIPMA...       [CGC, CGC]   \n1     MWVCLQLPVFLASVTLFEVAASDTIAQAASTTTISDAVSKVKIQVN...            [AGC]   \n3     INVFPD*YN*YKMLIFFS*YS*SKLALTDRSMEEVKKDVYSVWALP...            [AGC]   \n14    ENGLIGN*VGG*KSHAIINEMHFRHLAEVYK*KKPSENFKLEIEGK...       [AGG, TCC]   \n15    MDRMKIEAVIFDWAGTTVDYGCFAPLEVFMEIFHKRGVAITAEEAR...            [CGT]   \n...                                                 ...              ...   \n2196  MINRRYELFKDVSDADWNDWRWQVRNRIETVEELKKYIPLTKEEEE...  [AGA, AGA, AGA]   \n2208  MFTGLVEAIGVVKDVQGTIDNGFAMKIEAPQILDDCHTGDSIAVNG...            [AGT]   \n2212  RCRVHSPGVANWDIDSDTGHIALWLEQSSRQSTGSPHMTSKIEQPR...            [CGT]   \n2214  RQ*HSVTVRASLTIGQSGRKR*RRAMMCRTVSKPSPRRSLIMWLVM...            [TCG]   \n2216  FPV*IQGKKVQGLSMDRF*LLDLARIFPRSWGKFRFLLRYFVDVSP...            [CGT]   \n\n                                   non_binding_position  \\\n0     [CGC, CGC, CTC, CTC, CGC, CTC, TCG, CTG, CTC, ...   \n1     [CTC, CTT, TTG, TCC, TTA, TCT, AGC, TCT, AGT, ...   \n3     [TCG, TTA, TCG, CGA, CTA, TTG, AGA, TCC, AGA, ...   \n14    [TTG, TTG, TCC, CTT, TTG, CTT, AGA, AGC, CTT, ...   \n15    [CTA, CGG, CGT, TTA, TTA, AGG, CTT, CGT, AGT, ...   \n...                                                 ...   \n2196  [AGA, AGA, TTA, AGC, AGA, AGA, AGA, CTA, TTA, ...   \n2208  [CTT, TTA, AGT, CTT, CGC, TCT, CTG, CGT, TTG, ...   \n2212  [TCA, CGC, TCC, AGT, TCG, CTG, CTG, AGT, CTC, ...   \n2214  [TCC, TCT, CTT, CGT, TTG, CTT, CGC, CGA, CTC, ...   \n2216  [CTA, CGC, CTA, TTG, CTG, CTA, TCC, TTA, CTA, ...   \n\n                                         non_binding_AA  \n0     [R, R, L, L, R, L, S, L, L, R, R, R, R, R, R, ...  \n1     [L, L, L, S, L, S, S, S, S, L, S, R, R, L, L, ...  \n3     [S, L, S, R, L, L, R, S, R, S, L, S, L, R, S, ...  \n14    [L, L, S, L, L, L, R, S, L, S, L, R, S, R, L, ...  \n15    [L, R, R, L, L, R, L, R, S, R, R, L, L, L, R, ...  \n...                                                 ...  \n2196  [R, R, L, S, R, R, R, L, L, S, L, R, L, S, L, ...  \n2208  [L, L, S, L, R, S, L, R, L, L, L, R, L, S, S, ...  \n2212  [S, R, S, S, S, L, L, S, L, L, R, L, L, S, S, ...  \n2214  [S, S, L, R, L, L, R, R, L, R, S, S, L, L, L, ...  \n2216  [L, R, L, L, L, L, S, L, L, R, L, L, L, L, L, ...  \n\n[306 rows x 12 columns]",
      "text/html": "<div>\n<style scoped>\n    .dataframe tbody tr th:only-of-type {\n        vertical-align: middle;\n    }\n\n    .dataframe tbody tr th {\n        vertical-align: top;\n    }\n\n    .dataframe thead th {\n        text-align: right;\n    }\n</style>\n<table border=\"1\" class=\"dataframe\">\n  <thead>\n    <tr style=\"text-align: right;\">\n      <th></th>\n      <th>uniprot_id</th>\n      <th>position</th>\n      <th>residue</th>\n      <th>genBank_id</th>\n      <th>nucleotide_sequence</th>\n      <th>protein_sequence</th>\n      <th>prot_seq_length</th>\n      <th>organism</th>\n      <th>translated_sequence</th>\n      <th>binding_position</th>\n      <th>non_binding_position</th>\n      <th>non_binding_AA</th>\n    </tr>\n  </thead>\n  <tbody>\n    <tr>\n      <th>0</th>\n      <td>A4XF23</td>\n      <td>[147, 283]</td>\n      <td>[Arg, Arg]</td>\n      <td>CP000677</td>\n      <td>GCTATGCAAGCGCTATCATCAGTTGCAAGACATGTCCTGAAGGGAG...</td>\n      <td>MKITAARVIITCPGRNFVTLKIETDQGVYGIGDATLNGRELSVVAY...</td>\n      <td>402</td>\n      <td>Novosphingobium aromaticivorans (strain ATCC 7...</td>\n      <td>LRRDICTAP*PRPCKISTPRFPKTSTARMPNMRACAASVPLRIPMA...</td>\n      <td>[CGC, CGC]</td>\n      <td>[CGC, CGC, CTC, CTC, CGC, CTC, TCG, CTG, CTC, ...</td>\n      <td>[R, R, L, L, R, L, S, L, L, R, R, R, R, R, R, ...</td>\n    </tr>\n    <tr>\n      <th>1</th>\n      <td>A5JUY8</td>\n      <td>[307]</td>\n      <td>[Ser]</td>\n      <td>EF580919</td>\n      <td>ATGTGGGTCTGTCTCCAACTTCCAGTCTTTTTGGCTTCCGTGACCT...</td>\n      <td>MWVCLQLPVFLASVTLFEVAASDTIAQAASTTTISDAVSKVKIQVN...</td>\n      <td>712</td>\n      <td>Bubalus bubalis</td>\n      <td>MWVCLQLPVFLASVTLFEVAASDTIAQAASTTTISDAVSKVKIQVN...</td>\n      <td>[AGC]</td>\n      <td>[CTC, CTT, TTG, TCC, TTA, TCT, AGC, TCT, AGT, ...</td>\n      <td>[L, L, L, S, L, S, S, S, S, L, S, R, R, L, L, ...</td>\n    </tr>\n    <tr>\n      <th>3</th>\n      <td>O04147</td>\n      <td>[121]</td>\n      <td>[Ser]</td>\n      <td>Y11650</td>\n      <td>ATTAACGTATTCCCTGATTAGTACAACTAATATAAAATGTTAATCT...</td>\n      <td>MEEVKKDVYSVWALPDEESEPRFKKLMEALRSEFTGPRFVPHVTVA...</td>\n      <td>181</td>\n      <td>Arabidopsis thaliana</td>\n      <td>INVFPD*YN*YKMLIFFS*YS*SKLALTDRSMEEVKKDVYSVWALP...</td>\n      <td>[AGC]</td>\n      <td>[TCG, TTA, TCG, CGA, CTA, TTG, AGA, TCC, AGA, ...</td>\n      <td>[S, L, S, R, L, L, R, S, R, S, L, S, L, R, S, ...</td>\n    </tr>\n    <tr>\n      <th>14</th>\n      <td>O28603</td>\n      <td>[265, 449]</td>\n      <td>[Arg, Ser]</td>\n      <td>AE000782</td>\n      <td>GAAAATGGTTTAATCGGAAATTGAGTAGGAGGATAAAAGTCGCATG...</td>\n      <td>MVYYPKKYELYKADEVPTEVVETDILIIGGGFSGCGAAYEAAYWAK...</td>\n      <td>643</td>\n      <td>Archaeoglobus fulgidus (strain ATCC 49558 / DS...</td>\n      <td>ENGLIGN*VGG*KSHAIINEMHFRHLAEVYK*KKPSENFKLEIEGK...</td>\n      <td>[AGG, TCC]</td>\n      <td>[TTG, TTG, TCC, CTT, TTG, CTT, AGA, AGC, CTT, ...</td>\n      <td>[L, L, S, L, L, L, R, S, L, S, L, R, S, R, L, ...</td>\n    </tr>\n    <tr>\n      <th>15</th>\n      <td>O31156</td>\n      <td>[157]</td>\n      <td>[Arg]</td>\n      <td>AF030979</td>\n      <td>ATGGACAGAATGAAAATTGAAGCAGTTATTTTTGATTGGGCAGGGA...</td>\n      <td>MKIEAVIFDWAGTTVDYGCFAPLEVFMEIFHKRGVAITAEEARKPM...</td>\n      <td>264</td>\n      <td>Bacillus cereus</td>\n      <td>MDRMKIEAVIFDWAGTTVDYGCFAPLEVFMEIFHKRGVAITAEEAR...</td>\n      <td>[CGT]</td>\n      <td>[CTA, CGG, CGT, TTA, TTA, AGG, CTT, CGT, AGT, ...</td>\n      <td>[L, R, R, L, L, R, L, R, S, R, R, L, L, L, R, ...</td>\n    </tr>\n    <tr>\n      <th>...</th>\n      <td>...</td>\n      <td>...</td>\n      <td>...</td>\n      <td>...</td>\n      <td>...</td>\n      <td>...</td>\n      <td>...</td>\n      <td>...</td>\n      <td>...</td>\n      <td>...</td>\n      <td>...</td>\n      <td>...</td>\n    </tr>\n    <tr>\n      <th>2196</th>\n      <td>Q9XBQ8</td>\n      <td>[112, 116, 134]</td>\n      <td>[Arg, Arg, Arg]</td>\n      <td>AF159146</td>\n      <td>ATGATAAATAGAAGATATGAATTATTTAAAGATGTTAGCGATGCAG...</td>\n      <td>MINRRYELFKDVSDADWNDWRWQVRNRIETVEELKKYIPLTKEEEE...</td>\n      <td>416</td>\n      <td>Clostridium subterminale</td>\n      <td>MINRRYELFKDVSDADWNDWRWQVRNRIETVEELKKYIPLTKEEEE...</td>\n      <td>[AGA, AGA, AGA]</td>\n      <td>[AGA, AGA, TTA, AGC, AGA, AGA, AGA, CTA, TTA, ...</td>\n      <td>[R, R, L, S, R, R, R, L, L, S, L, R, L, S, L, ...</td>\n    </tr>\n    <tr>\n      <th>2208</th>\n      <td>Q9Y7P0</td>\n      <td>[41]</td>\n      <td>[Ser]</td>\n      <td>AF505789</td>\n      <td>ATGTTTACAGGTCTTGTTGAAGCCATTGGTGTTGTTAAAGATGTTC...</td>\n      <td>MFTGLVEAIGVVKDVQGTIDNGFAMKIEAPQILDDCHTGDSIAVNG...</td>\n      <td>208</td>\n      <td>Schizosaccharomyces pombe (strain 972 / ATCC 2...</td>\n      <td>MFTGLVEAIGVVKDVQGTIDNGFAMKIEAPQILDDCHTGDSIAVNG...</td>\n      <td>[AGT]</td>\n      <td>[CTT, TTA, AGT, CTT, CGC, TCT, CTG, CGT, TTG, ...</td>\n      <td>[L, L, S, L, R, S, L, R, L, L, L, R, L, S, S, ...</td>\n    </tr>\n    <tr>\n      <th>2212</th>\n      <td>Q9ZAG3</td>\n      <td>[99]</td>\n      <td>[Arg]</td>\n      <td>Y18005</td>\n      <td>AGATGCAGAGTTCACTCGCCAGGTGTTGCGAACTGGGACATTGACA...</td>\n      <td>MTSKIEQPRWASKDSAAGAASTPDEKIVLEFMDALTSNDAAKLIEY...</td>\n      <td>149</td>\n      <td>Rhodococcus erythropolis</td>\n      <td>RCRVHSPGVANWDIDSDTGHIALWLEQSSRQSTGSPHMTSKIEQPR...</td>\n      <td>[CGT]</td>\n      <td>[TCA, CGC, TCC, AGT, TCG, CTG, CTG, AGT, CTC, ...</td>\n      <td>[S, R, S, S, S, L, L, S, L, L, R, L, L, S, S, ...</td>\n    </tr>\n    <tr>\n      <th>2214</th>\n      <td>Q9ZBA9</td>\n      <td>[62]</td>\n      <td>[Ser]</td>\n      <td>M84523</td>\n      <td>GCGCCAGTGACATTCGGTTACAGTGAGGGCGAGCTTAACCATTGGG...</td>\n      <td>MSKFDTSALEAFVRHIPQNYKGPGGVVAVVKDGEVVLQHAWGFADL...</td>\n      <td>520</td>\n      <td>Brucella anthropi</td>\n      <td>RQ*HSVTVRASLTIGQSGRKR*RRAMMCRTVSKPSPRRSLIMWLVM...</td>\n      <td>[TCG]</td>\n      <td>[TCC, TCT, CTT, CGT, TTG, CTT, CGC, CGA, CTC, ...</td>\n      <td>[S, S, L, R, L, L, R, R, L, R, S, S, L, L, L, ...</td>\n    </tr>\n    <tr>\n      <th>2216</th>\n      <td>Q9ZHG9</td>\n      <td>[360]</td>\n      <td>[Arg]</td>\n      <td>AF061964</td>\n      <td>ATTTCCGGTCTGAATTCAGGGAAAAAAAGTTCAAGGGCTGAGTATG...</td>\n      <td>MADPVNLIPDRHQFPGLANKTYFNFGGQGILPTVALEAITAMYGYL...</td>\n      <td>393</td>\n      <td>Synechocystis sp. (strain PCC 6714)</td>\n      <td>FPV*IQGKKVQGLSMDRF*LLDLARIFPRSWGKFRFLLRYFVDVSP...</td>\n      <td>[CGT]</td>\n      <td>[CTA, CGC, CTA, TTG, CTG, CTA, TCC, TTA, CTA, ...</td>\n      <td>[L, R, L, L, L, L, S, L, L, R, L, L, L, L, L, ...</td>\n    </tr>\n  </tbody>\n</table>\n<p>306 rows × 12 columns</p>\n</div>"
     },
     "execution_count": 23,
     "metadata": {},
     "output_type": "execute_result"
    }
   ],
   "source": [
    "df_aligned = align_seqs(df_merged_all)\n",
    "df_aligned"
   ]
  },
  {
   "cell_type": "code",
   "outputs": [],
   "source": [
    "df_aligned.to_csv(\"l.csv\")"
   ],
   "metadata": {
    "collapsed": false,
    "ExecuteTime": {
     "end_time": "2025-04-26T11:40:02.231214Z",
     "start_time": "2025-04-26T11:39:59.231879Z"
    }
   },
   "id": "b31f61edd8bc3589",
   "execution_count": 15
  },
  {
   "cell_type": "code",
   "outputs": [],
   "source": [
    "columns = [\"uniprot_id\", \"genBank_id\", \"position\", \"residue\", \"prot_seq_length\", \"organism\", \"binding_position\", \"non_binding_position\", \"non_binding_AA\"]\n",
    "short_df = df_aligned[columns]"
   ],
   "metadata": {
    "collapsed": false,
    "ExecuteTime": {
     "end_time": "2025-04-26T11:53:37.913764Z",
     "start_time": "2025-04-26T11:53:37.900882Z"
    }
   },
   "id": "3ad2f23f3ad015b3",
   "execution_count": 25
  },
  {
   "cell_type": "code",
   "outputs": [],
   "source": [
    "short_df.to_csv(\"s.csv\")"
   ],
   "metadata": {
    "collapsed": false,
    "ExecuteTime": {
     "end_time": "2025-04-26T11:53:56.329802Z",
     "start_time": "2025-04-26T11:53:56.304801Z"
    }
   },
   "id": "4b139578fb81c637",
   "execution_count": 26
  },
  {
   "cell_type": "code",
   "execution_count": 16,
   "id": "adf5fa821da08bad",
   "metadata": {
    "ExecuteTime": {
     "end_time": "2025-04-24T16:09:20.353281Z",
     "start_time": "2025-04-24T16:09:20.324619Z"
    },
    "collapsed": false
   },
   "outputs": [],
   "source": [
    "def get_proportions(counts):\n",
    "    \"\"\"\n",
    "    Calculate the relative frequency of each codon in a counts dictionary.\n",
    "    Returns a dict[str, float] - a mapping from each codon to its proportion of the total count.\n",
    "    \"\"\"\n",
    "    total = sum(counts.values())\n",
    "    if total == 0:\n",
    "        return {codon: 0 for codon in counts}\n",
    "    return {codon: count / total for codon, count in counts.items()}\n",
    "\n",
    "def calculate_proportions(df):\n",
    "    \"\"\"\n",
    "    Compute codon usage counts and proportions for binding vs. non-binding sites\n",
    "    of Leucine, Arginine, and Serine.\n",
    "\n",
    "    Returns a tuple\n",
    "        - proportions: dict[str, dict[str, float]] - a mapping from site label to a codon→proportion dict.\n",
    "        - counts: dict[str, dict[str, int]]- a mapping from site label to the raw codon→count dict.\n",
    "    \"\"\"\n",
    "    \n",
    "    binding_leucine_codons = {'CTG':0, 'CTA':0, 'CTT':0, 'CTC':0, 'TTA':0, 'TTG':0}\n",
    "    binding_arginine_codons = {\"CGT\":0, \"CGC\":0, \"CGA\":0, \"CGG\":0, \"AGA\":0, \"AGG\":0}\n",
    "    binding_serine_codons = {\"TCT\":0, \"TCC\":0, \"TCA\":0, \"TCG\":0, \"AGT\":0, \"AGC\":0}\n",
    "    non_binding_leucine_codons = {'CTG':0, 'CTA':0, 'CTT':0, 'CTC':0, 'TTA':0, 'TTG':0}\n",
    "    non_binding_arginine_codons = {\"CGT\":0, \"CGC\":0, \"CGA\":0, \"CGG\":0, \"AGA\":0, \"AGG\":0}\n",
    "    non_binding_serine_codons = {\"TCT\":0, \"TCC\":0, \"TCA\":0, \"TCG\":0, \"AGT\":0, \"AGC\":0}\n",
    "    l = r = s = 0\n",
    "    \n",
    "    for idx, row in df.iterrows():\n",
    "        for i, res in enumerate(row[\"residue\"]):\n",
    "            if res == \"Leu\":\n",
    "                if row['binding_position'][i] in binding_leucine_codons.keys():\n",
    "                    binding_leucine_codons[row['binding_position'][i]] += 1\n",
    "                    l+= 1\n",
    "                else:\n",
    "                    print(row[\"uniprot_id\"],i, row[\"position\"][i], row[\"residue\"][0],row['binding_position'][i])\n",
    "            elif res == \"Arg\":\n",
    "                if row['binding_position'][i] in binding_arginine_codons.keys():\n",
    "                    binding_arginine_codons[row['binding_position'][i]] += 1\n",
    "                    r += 1\n",
    "                else:\n",
    "                    print(row[\"uniprot_id\"],i, row[\"position\"][i], row[\"residue\"][0],row['binding_position'][i])\n",
    "            else:\n",
    "                if row['binding_position'][i] in binding_serine_codons.keys():\n",
    "                    binding_serine_codons[row['binding_position'][i]] += 1\n",
    "                    s += 1\n",
    "                else:\n",
    "                    print(row[\"uniprot_id\"],i, row[\"position\"][i], row[\"residue\"][0],row['binding_position'][i])\n",
    "                    \n",
    "        for i, res in enumerate(row['non_binding_AA']):\n",
    "            if res == \"L\":\n",
    "                if row['non_binding_position'][i] in non_binding_leucine_codons.keys(): \n",
    "                    non_binding_leucine_codons[row['non_binding_position'][i]] += 1\n",
    "                else:\n",
    "                    print(\"NON\", row[\"uniprot_id\"],i, row[\"translated_sequence\"][i], row[\"residue\"][0],row['non_binding_position'][i])\n",
    "            elif res == \"R\":\n",
    "                if row['non_binding_position'][i] in non_binding_arginine_codons.keys(): \n",
    "                    non_binding_arginine_codons[row['non_binding_position'][i]] += 1\n",
    "                else:\n",
    "                    print(\"NON\", row[\"uniprot_id\"],i, row[\"translated_sequence\"][i], row[\"residue\"][0],row['non_binding_position'][i])\n",
    "            else:\n",
    "                if row['non_binding_position'][i] in non_binding_serine_codons.keys(): \n",
    "                    non_binding_serine_codons[row['non_binding_position'][i]] += 1\n",
    "                else:\n",
    "                    print(\"NON\", row[\"uniprot_id\"],i, row[\"translated_sequence\"][i], row[\"residue\"][0],row['non_binding_position'][i])\n",
    "                \n",
    "    binding_leu_prop = get_proportions(binding_leucine_codons)\n",
    "    binding_arg_prop = get_proportions(binding_arginine_codons)\n",
    "    binding_ser_prop = get_proportions(binding_serine_codons)\n",
    "    non_binding_leu_prop = get_proportions(non_binding_leucine_codons)\n",
    "    non_binding_arg_prop = get_proportions(non_binding_arginine_codons)\n",
    "    non_binding_ser_prop = get_proportions(non_binding_serine_codons)\n",
    "    \n",
    "    return {\n",
    "        \"Leucine Binding Site\": binding_leu_prop,\n",
    "        \"Arginine Binding Site\": binding_arg_prop,\n",
    "        \"Serine Binding Site\": binding_ser_prop,\n",
    "        \"Leucine Non-binding Site\": non_binding_leu_prop,\n",
    "        \"Arginine Non-binding Site\": non_binding_arg_prop,\n",
    "        \"Serine Non-binding Site\": non_binding_ser_prop,        \n",
    "    }, {\n",
    "        \"Leucine Binding Site\": binding_leucine_codons,\n",
    "        \"Arginine Binding Site\": binding_arginine_codons,\n",
    "        \"Serine Binding Site\": binding_serine_codons,\n",
    "        \"Leucine Non-binding Site\": non_binding_leucine_codons,\n",
    "        \"Arginine Non-binding Site\": non_binding_arginine_codons,\n",
    "        \"Serine Non-binding Site\": non_binding_serine_codons,\n",
    "    }"
   ]
  },
  {
   "cell_type": "code",
   "execution_count": 17,
   "id": "1f958aaea2125633",
   "metadata": {
    "ExecuteTime": {
     "end_time": "2025-04-24T16:09:20.464940Z",
     "start_time": "2025-04-24T16:09:20.355281Z"
    },
    "collapsed": false
   },
   "outputs": [
    {
     "name": "stdout",
     "output_type": "stream",
     "text": [
      "P06968 0 70 Arg CCG\n",
      "P26440 0 416 Arg GTC\n",
      "P26440 1 165 Arg CTG\n"
     ]
    }
   ],
   "source": [
    "# Get proportions and counts for my aligned data and prints sites where database has mistakes\n",
    "proportions, counts = calculate_proportions(df_aligned)"
   ]
  },
  {
   "cell_type": "code",
   "execution_count": 18,
   "id": "1692d413cd7d53a7",
   "metadata": {
    "ExecuteTime": {
     "end_time": "2025-04-24T16:09:20.480873Z",
     "start_time": "2025-04-24T16:09:20.466861Z"
    },
    "collapsed": false
   },
   "outputs": [],
   "source": [
    "# Save the proportions and counts\n",
    "with open(\"Analysis_results.pkl\", \"wb\") as f:\n",
    "    pickle.dump((proportions, counts), f)"
   ]
  },
  {
   "cell_type": "code",
   "execution_count": 19,
   "id": "97eefc947518eb46",
   "metadata": {
    "ExecuteTime": {
     "end_time": "2025-04-24T16:09:20.496859Z",
     "start_time": "2025-04-24T16:09:20.483864Z"
    },
    "collapsed": false
   },
   "outputs": [
    {
     "data": {
      "text/plain": [
       "{'leucine': {'Binding Site': {'CTG': 0.4230769230769231,\n",
       "   'CTA': 0.0,\n",
       "   'CTT': 0.11538461538461539,\n",
       "   'CTC': 0.038461538461538464,\n",
       "   'TTA': 0.23076923076923078,\n",
       "   'TTG': 0.19230769230769232},\n",
       "  'Non-binding Site': {'CTG': 0.39122502964517014,\n",
       "   'CTA': 0.05299644257958588,\n",
       "   'CTT': 0.12870564626470857,\n",
       "   'CTC': 0.1722156344066405,\n",
       "   'TTA': 0.11557055550488005,\n",
       "   'TTG': 0.13928669159901486}},\n",
       " 'arginine': {'Binding Site': {'CGT': 0.2669172932330827,\n",
       "   'CGC': 0.29699248120300753,\n",
       "   'CGA': 0.07518796992481203,\n",
       "   'CGG': 0.12781954887218044,\n",
       "   'AGA': 0.16165413533834586,\n",
       "   'AGG': 0.07142857142857142},\n",
       "  'Non-binding Site': {'CGT': 0.21835642317380352,\n",
       "   'CGC': 0.3290302267002519,\n",
       "   'CGA': 0.07320528967254408,\n",
       "   'CGG': 0.1443639798488665,\n",
       "   'AGA': 0.13476070528967254,\n",
       "   'AGG': 0.10028337531486146}},\n",
       " 'serine': {'Binding Site': {'TCT': 0.1686746987951807,\n",
       "   'TCC': 0.25301204819277107,\n",
       "   'TCA': 0.10240963855421686,\n",
       "   'TCG': 0.1927710843373494,\n",
       "   'AGT': 0.10240963855421686,\n",
       "   'AGC': 0.18072289156626506},\n",
       "  'Non-binding Site': {'TCT': 0.1575919169239405,\n",
       "   'TCC': 0.19758630367667696,\n",
       "   'TCA': 0.1378052203199551,\n",
       "   'TCG': 0.14145383104125736,\n",
       "   'AGT': 0.11984282907662082,\n",
       "   'AGC': 0.24571989896154925}}}"
      ]
     },
     "execution_count": 19,
     "metadata": {},
     "output_type": "execute_result"
    }
   ],
   "source": [
    "# Normalise the counts of each codon so that I can compare binding and non-binding codon distributions\n",
    "normalised = {}\n",
    "\n",
    "for full_key, subcounts in counts.items():\n",
    "    # Split full_key to 'Amino acid' and 'Binding/non-binding site'\n",
    "    aa, site = full_key.split(\" \", 1)\n",
    "    aa = aa.lower()\n",
    "\n",
    "    if aa not in normalised:\n",
    "        normalised[aa] = {}\n",
    "\n",
    "    total = sum(subcounts.values())\n",
    "    # build normalized proportions\n",
    "    props = {\n",
    "        codon: (cnt / total if total > 0 else 0.0)\n",
    "        for codon, cnt in subcounts.items()\n",
    "    }\n",
    "\n",
    "    normalised[aa][site] = props\n",
    "    \n",
    "normalised"
   ]
  },
  {
   "cell_type": "code",
   "execution_count": 20,
   "id": "cae7073a89e3c6de",
   "metadata": {
    "ExecuteTime": {
     "end_time": "2025-04-24T16:09:20.512877Z",
     "start_time": "2025-04-24T16:09:20.497859Z"
    },
    "collapsed": false
   },
   "outputs": [],
   "source": [
    "# make a 'long' dataframe for plotnine library\n",
    "records = []\n",
    "for aa, sites in normalised.items():\n",
    "    for site, codon_dict in sites.items():\n",
    "        for codon, prop in codon_dict.items():\n",
    "            records.append({\n",
    "                \"AminoAcid\": aa.capitalize(),\n",
    "                \"Site\": site, \n",
    "                \"Codon\": codon,\n",
    "                \"Proportion\": prop\n",
    "            })\n",
    "\n",
    "df = pd.DataFrame(records)\n",
    "\n",
    "# A color palette for the plots\n",
    "palette = {\n",
    "    # GREEN GROUP\n",
    "    \"TTG\": {\"Binding Site\":    \"#1B5E20\",  # dark green\n",
    "            \"Non-binding Site\":\"#A5D6A7\"}, # light green\n",
    "    \"TTA\": {\"Binding Site\":    \"#1B5E20\",\n",
    "            \"Non-binding Site\":\"#A5D6A7\"},\n",
    "    \"AGG\": {\"Binding Site\":    \"#1B5E20\",\n",
    "            \"Non-binding Site\":\"#A5D6A7\"},\n",
    "    \"AGA\": {\"Binding Site\":    \"#1B5E20\",\n",
    "            \"Non-binding Site\":\"#A5D6A7\"},\n",
    "\n",
    "    # BLUE GROUP\n",
    "    \"CTG\": {\"Binding Site\":    \"#0D47A1\",  # dark blue\n",
    "            \"Non-binding Site\":\"#90CAF9\"}, # light blue\n",
    "    \"CTA\": {\"Binding Site\":    \"#0D47A1\",\n",
    "            \"Non-binding Site\":\"#90CAF9\"},\n",
    "    \"CGG\": {\"Binding Site\":    \"#0D47A1\",\n",
    "            \"Non-binding Site\":\"#90CAF9\"},\n",
    "    \"CGA\": {\"Binding Site\":    \"#0D47A1\",\n",
    "            \"Non-binding Site\":\"#90CAF9\"},\n",
    "\n",
    "    # RED GROUP\n",
    "    \"CTT\": {\"Binding Site\":    \"#B71C1C\",  # dark red\n",
    "            \"Non-binding Site\":\"#EF9A9A\"}, # light red\n",
    "    \"CTC\": {\"Binding Site\":    \"#B71C1C\",\n",
    "            \"Non-binding Site\":\"#EF9A9A\"},\n",
    "    \"CGT\": {\"Binding Site\":    \"#B71C1C\",\n",
    "            \"Non-binding Site\":\"#EF9A9A\"},\n",
    "    \"CGC\": {\"Binding Site\":    \"#B71C1C\",\n",
    "            \"Non-binding Site\":\"#EF9A9A\"},\n",
    "    \"TCT\": {\"Binding Site\":    \"#B71C1C\",\n",
    "            \"Non-binding Site\":\"#EF9A9A\"},\n",
    "    \"TCC\": {\"Binding Site\":    \"#B71C1C\",\n",
    "            \"Non-binding Site\":\"#EF9A9A\"},\n",
    "    \"TCA\": {\"Binding Site\":    \"#B71C1C\",\n",
    "            \"Non-binding Site\":\"#EF9A9A\"},\n",
    "    \"TCG\": {\"Binding Site\":    \"#B71C1C\",\n",
    "            \"Non-binding Site\":\"#EF9A9A\"},\n",
    "\n",
    "    # PURPLE GROUP\n",
    "    \"AGC\": {\"Binding Site\":    \"#4A148C\",  # dark purple\n",
    "            \"Non-binding Site\":\"#CE93D8\"}, # light purple\n",
    "    \"AGT\": {\"Binding Site\":    \"#4A148C\",\n",
    "            \"Non-binding Site\":\"#CE93D8\"},\n",
    "}\n",
    "\n",
    "# Create combined key\n",
    "df[\"Codon_Site\"] = df[\"Codon\"] + \"_\" + df[\"Site\"]\n",
    "\n",
    "# transform palette into a dict\n",
    "flat_palette = {\n",
    "    f\"{codon}_{site}\": color\n",
    "    for codon, site_map in palette.items()\n",
    "    for site, color in site_map.items()\n",
    "}"
   ]
  },
  {
   "cell_type": "code",
   "execution_count": 21,
   "id": "268515c332658d6c",
   "metadata": {
    "ExecuteTime": {
     "end_time": "2025-04-24T16:09:20.892061Z",
     "start_time": "2025-04-24T16:09:20.513859Z"
    },
    "collapsed": false
   },
   "outputs": [],
   "source": [
    "from plotnine import ggplot, aes, geom_bar, scale_fill_manual, theme_minimal, guides, theme, element_text, element_rect\n",
    "\n",
    "def plot_aa_codons(df, aa, codon_order):\n",
    "    \"\"\"\n",
    "    Generate a bar plot of codon usage proportions for a specified amino acid.\n",
    "    Returns a ggplot bar chart with codon proportions for binding vs. non-binding sites.\n",
    "    \"\"\"\n",
    "    sub = df[df[\"AminoAcid\"] == aa].copy()\n",
    "    # enforce the x-axis order\n",
    "    sub[\"Codon\"] = pd.Categorical(sub[\"Codon\"], categories=codon_order, ordered=True)\n",
    "    \n",
    "    return (\n",
    "      ggplot(sub, aes(x=\"Codon\", y=\"Proportion\", fill=\"Codon_Site\"))\n",
    "      + geom_bar(stat=\"identity\", position=\"dodge\", width=0.7)\n",
    "      + scale_fill_manual(values=flat_palette)\n",
    "      + guides(fill=False)\n",
    "      + theme_minimal()\n",
    "        + theme(\n",
    "            plot_title   = element_text(size=16, weight=\"bold\"),\n",
    "            axis_title_x = element_text(size=14),\n",
    "            axis_title_y = element_text(size=14),\n",
    "            axis_text_x  = element_text(size=12),\n",
    "            axis_text_y  = element_text(size=12),\n",
    "            legend_title = element_text(size=13),\n",
    "            legend_text  = element_text(size=11),\n",
    "            panel_background = element_rect(fill=\"white\"),\n",
    "            plot_background  = element_rect(fill=\"white\")\n",
    "        )\n",
    "    )"
   ]
  },
  {
   "cell_type": "code",
   "execution_count": 22,
   "id": "79b6730f2d3d5ef3",
   "metadata": {
    "ExecuteTime": {
     "end_time": "2025-04-24T16:09:21.679386Z",
     "start_time": "2025-04-24T16:09:20.894063Z"
    },
    "collapsed": false
   },
   "outputs": [
    {
     "data": {
      "image/png": "[encoded data removed]"
     },
     "metadata": {
      "image/png": {
       "height": 480,
       "width": 640
      }
     },
     "output_type": "display_data"
    }
   ],
   "source": [
    "leu_order = [\"CTG\",\"CTA\",\"CTT\",\"CTC\",\"TTA\",\"TTG\"]\n",
    "leucine_plot = plot_aa_codons(df, \"Leucine\", leu_order)\n",
    "leucine_plot\n",
    "#leucine_plot.save(\"leucine_plot.png\", width=6, height=4, dpi=300)"
   ]
  },
  {
   "cell_type": "code",
   "execution_count": 23,
   "id": "29fd51ff8cffc4e",
   "metadata": {
    "ExecuteTime": {
     "end_time": "2025-04-24T16:09:21.868430Z",
     "start_time": "2025-04-24T16:09:21.682374Z"
    },
    "collapsed": false
   },
   "outputs": [
    {
     "data": {
      "image/png": "[encoded data removed]"
     },
     "metadata": {
      "image/png": {
       "height": 480,
       "width": 640
      }
     },
     "output_type": "display_data"
    }
   ],
   "source": [
    "ser_order = [\"TCT\",\"TCC\",\"TCA\",\"TCG\",\"AGT\",\"AGC\"]\n",
    "serine_plot = plot_aa_codons(df, \"Serine\", ser_order)\n",
    "serine_plot\n",
    "#serine_plot.save(\"serine_plot.png\", width=6, height=4, dpi=300)"
   ]
  },
  {
   "cell_type": "code",
   "execution_count": 24,
   "id": "716468333a7a93d8",
   "metadata": {
    "ExecuteTime": {
     "end_time": "2025-04-24T16:09:22.056470Z",
     "start_time": "2025-04-24T16:09:21.870433Z"
    },
    "collapsed": false
   },
   "outputs": [
    {
     "data": {
      "image/png": "[encoded data removed]"
     },
     "metadata": {
      "image/png": {
       "height": 480,
       "width": 640
      }
     },
     "output_type": "display_data"
    }
   ],
   "source": [
    "arg_order = [\"CGA\",\"CGG\", \"CGT\",\"CGC\",\"AGA\",\"AGG\"]\n",
    "arginine_plot = plot_aa_codons(df, \"Arginine\", arg_order)\n",
    "arginine_plot\n",
    "#arginine_plot.save(\"arginine_plot.png\", width=6, height=4, dpi=300)"
   ]
  },
  {
   "cell_type": "markdown",
   "id": "d433c1ba81f5a08a",
   "metadata": {
    "collapsed": false
   },
   "source": [
    "<h1>Chi square test for significance</h1>\n",
    "\n",
    "Null Hypothesis (H₀):\n",
    "The codon distribution in binding sites is the same as in non-binding sites (i.e., no selection pressure).\n",
    "\n",
    "Alternative Hypothesis (H₁):\n",
    "The codon distribution in binding sites is significantly different from non-binding sites (i.e., possible selection pressure)."
   ]
  },
  {
   "cell_type": "code",
   "execution_count": 25,
   "id": "28f34784dd341a55",
   "metadata": {
    "ExecuteTime": {
     "end_time": "2025-04-24T19:08:41.335110Z",
     "start_time": "2025-04-24T19:08:41.314001Z"
    },
    "collapsed": false
   },
   "outputs": [],
   "source": [
    "codon_subsets = {\n",
    "    \"Arginine\": {\"CGT\", \"CGC\", \"CGA\", \"CGG\", \"AGA\", \"AGG\"},\n",
    "    \"Leucine\": {'CTG', 'CTA', 'CTT', 'CTC', 'TTA', 'TTG'},\n",
    "    \"Serine\": {\"TCT\", \"TCC\", \"TCA\", \"TCG\", \"AGT\", \"AGC\"}\n",
    "}"
   ]
  },
  {
   "cell_type": "code",
   "execution_count": 26,
   "id": "cbdbc7fe94aaf7f0",
   "metadata": {
    "ExecuteTime": {
     "end_time": "2025-04-24T19:08:41.784967Z",
     "start_time": "2025-04-24T19:08:41.758163Z"
    },
    "collapsed": false
   },
   "outputs": [
    {
     "name": "stdout",
     "output_type": "stream",
     "text": [
      "Results for Arginine:\n",
      "  Chi-squared Statistic: 7.621\n",
      "  P-value: 0.17841\n",
      "  No significant difference detected (no strong selection pressure).\n",
      "--------------------------------------------------\n",
      "Results for Leucine:\n",
      "  Chi-squared Statistic: 6.027\n",
      "  P-value: 0.30358\n",
      "  No significant difference detected (no strong selection pressure).\n",
      "--------------------------------------------------\n",
      "Results for Serine:\n",
      "  Chi-squared Statistic: 10.316\n",
      "  P-value: 0.06676\n",
      "  No significant difference detected (no strong selection pressure).\n",
      "--------------------------------------------------\n"
     ]
    }
   ],
   "source": [
    "results = {}\n",
    "\n",
    "for aa, codons in codon_subsets.items():\n",
    "    # build the keys into your nested dict\n",
    "    bind_key    = f\"{aa} Binding Site\"\n",
    "    nonbind_key = f\"{aa} Non-binding Site\"\n",
    "    \n",
    "    # adding plus one as a pseudocount to not get zero values for some codons\n",
    "    bind_counts    = pd.Series(counts[bind_key]) + 1\n",
    "    nonbind_counts = pd.Series(counts[nonbind_key]) + 1\n",
    "    \n",
    "    # scale the non-binding to the same total as binding\n",
    "    scale_factor = bind_counts.sum() / nonbind_counts.sum()\n",
    "    expected     = nonbind_counts * scale_factor\n",
    "    \n",
    "    # chi-square test\n",
    "    chi2_stat, p_value = chisquare(f_obs=bind_counts, f_exp=expected)\n",
    "    \n",
    "    results[aa] = {\"Chi-squared Statistic\": chi2_stat, \"P-value\": p_value}\n",
    "\n",
    "    print(f\"Results for {aa}:\")\n",
    "    print(f\"  Chi-squared Statistic: {chi2_stat:.3f}\")\n",
    "    print(f\"  P-value: {p_value:.5f}\")\n",
    "    if p_value < 0.05:\n",
    "        print(\"  Significant difference detected (possible selection pressure).\")\n",
    "    else:\n",
    "        print(\"  No significant difference detected (no strong selection pressure).\")\n",
    "    print(\"-\" * 50) "
   ]
  },
  {
   "cell_type": "markdown",
   "id": "c1659183eeb404cc",
   "metadata": {
    "collapsed": false
   },
   "source": [
    "<h1>Chi-squared test just for E. Coli</h1>"
   ]
  },
  {
   "cell_type": "code",
   "execution_count": 27,
   "id": "e6f4edfae10d03a7",
   "metadata": {
    "ExecuteTime": {
     "end_time": "2025-04-24T19:08:44.387841Z",
     "start_time": "2025-04-24T19:08:44.365753Z"
    },
    "collapsed": false
   },
   "outputs": [],
   "source": [
    "df_ecoli = df_aligned[df_aligned[\"organism\"] == \"Escherichia coli\"]\n",
    "_ ,ecoli_counts = calculate_proportions(df_ecoli)"
   ]
  },
  {
   "cell_type": "code",
   "execution_count": 28,
   "id": "b5508547f26f37c2",
   "metadata": {
    "ExecuteTime": {
     "end_time": "2025-04-24T19:08:45.057778Z",
     "start_time": "2025-04-24T19:08:45.030613Z"
    },
    "collapsed": false
   },
   "outputs": [
    {
     "name": "stdout",
     "output_type": "stream",
     "text": [
      "Results for Arginine:\n",
      "  Chi-squared Statistic: 4.320\n",
      "  P-value: 0.50438\n",
      "  No significant difference detected (no strong selection pressure).\n",
      "--------------------------------------------------\n",
      "Results for Leucine:\n",
      "  Chi-squared Statistic: 3.759\n",
      "  P-value: 0.58464\n",
      "  No significant difference detected (no strong selection pressure).\n",
      "--------------------------------------------------\n",
      "Results for Serine:\n",
      "  Chi-squared Statistic: 2.849\n",
      "  P-value: 0.72326\n",
      "  No significant difference detected (no strong selection pressure).\n",
      "--------------------------------------------------\n"
     ]
    }
   ],
   "source": [
    "results = {}\n",
    "\n",
    "for aa, codons in codon_subsets.items():\n",
    "    # build the keys into your nested dict\n",
    "    bind_key = f\"{aa} Binding Site\"\n",
    "    nonbind_key = f\"{aa} Non-binding Site\"\n",
    "    \n",
    "    # adding plus one as a pseudocount to not get zero values for some codons\n",
    "    bind_counts = pd.Series(ecoli_counts[bind_key]) + 1\n",
    "    nonbind_counts = pd.Series(ecoli_counts[nonbind_key]) + 1\n",
    "    \n",
    "    # scale the non-binding to the same total as binding\n",
    "    expected = bind_counts.sum() * nonbind_counts / nonbind_counts.sum()\n",
    "    \n",
    "    # chi-square test\n",
    "    chi2_stat, p_value = chisquare(f_obs=bind_counts, f_exp=expected)\n",
    "    \n",
    "    results[aa] = {\"Chi-squared Statistic\": chi2_stat, \"P-value\": p_value}\n",
    "\n",
    "    print(f\"Results for {aa}:\")\n",
    "    print(f\"  Chi-squared Statistic: {chi2_stat:.3f}\")\n",
    "    print(f\"  P-value: {p_value:.5f}\")\n",
    "    if p_value < 0.05:\n",
    "        print(\"  Significant difference detected (possible selection pressure).\")\n",
    "    else:\n",
    "        print(\"  No significant difference detected (no strong selection pressure).\")\n",
    "    print(\"-\" * 50) "
   ]
  },
  {
   "cell_type": "markdown",
   "id": "266f0f7fae700cac",
   "metadata": {
    "collapsed": false
   },
   "source": [
    "<h1>Chi-squared test with no E.Coli</h1>"
   ]
  },
  {
   "cell_type": "code",
   "execution_count": 29,
   "id": "b3d1e900d12ba91",
   "metadata": {
    "ExecuteTime": {
     "end_time": "2025-04-24T19:12:37.520849Z",
     "start_time": "2025-04-24T19:12:37.314006Z"
    },
    "collapsed": false
   },
   "outputs": [
    {
     "name": "stdout",
     "output_type": "stream",
     "text": [
      "P06968 0 70 Arg CCG\n",
      "P26440 0 416 Arg GTC\n",
      "P26440 1 165 Arg CTG\n"
     ]
    }
   ],
   "source": [
    "df_without_ecoli = df_aligned[df_aligned[\"organism\"] != \"Escherichia coli\"]\n",
    "_ ,no_ecoli_counts = calculate_proportions(df_without_ecoli)"
   ]
  },
  {
   "cell_type": "code",
   "execution_count": 30,
   "id": "b43eb4bb695af026",
   "metadata": {
    "ExecuteTime": {
     "end_time": "2025-04-24T19:12:39.443775Z",
     "start_time": "2025-04-24T19:12:39.429147Z"
    },
    "collapsed": false
   },
   "outputs": [
    {
     "name": "stdout",
     "output_type": "stream",
     "text": [
      "Results for Arginine:\n",
      "  Chi-squared Statistic: 9.116\n",
      "  P-value: 0.10454\n",
      "  No significant difference detected (no strong selection pressure).\n",
      "--------------------------------------------------\n",
      "Results for Leucine:\n",
      "  Chi-squared Statistic: 6.298\n",
      "  P-value: 0.27833\n",
      "  No significant difference detected (no strong selection pressure).\n",
      "--------------------------------------------------\n",
      "Results for Serine:\n",
      "  Chi-squared Statistic: 10.195\n",
      "  P-value: 0.06988\n",
      "  No significant difference detected (no strong selection pressure).\n",
      "--------------------------------------------------\n"
     ]
    }
   ],
   "source": [
    "results = {}\n",
    "\n",
    "for aa, codons in codon_subsets.items():\n",
    "    # build the keys into your nested dict\n",
    "    bind_key = f\"{aa} Binding Site\"\n",
    "    nonbind_key = f\"{aa} Non-binding Site\"\n",
    "    \n",
    "    # adding plus one as a pseudocount to not get zero values for some codons\n",
    "    bind_counts = pd.Series(no_ecoli_counts[bind_key]) + 1\n",
    "    nonbind_counts = pd.Series(no_ecoli_counts[nonbind_key]) + 1\n",
    "    \n",
    "    # scale the non-binding to the same total as binding\n",
    "    expected = bind_counts.sum() * nonbind_counts / nonbind_counts.sum()\n",
    "    \n",
    "    # chi-square test\n",
    "    chi2_stat, p_value = chisquare(f_obs=bind_counts, f_exp=expected)\n",
    "    \n",
    "    results[aa] = {\"Chi-squared Statistic\": chi2_stat, \"P-value\": p_value}\n",
    "\n",
    "    print(f\"Results for {aa}:\")\n",
    "    print(f\"  Chi-squared Statistic: {chi2_stat:.3f}\")\n",
    "    print(f\"  P-value: {p_value:.5f}\")\n",
    "    if p_value < 0.05:\n",
    "        print(\"  Significant difference detected (possible selection pressure).\")\n",
    "    else:\n",
    "        print(\"  No significant difference detected (no strong selection pressure).\")\n",
    "    print(\"-\" * 50) "
   ]
  }
 ],
 "metadata": {
  "kernelspec": {
   "display_name": "Python 3 (ipykernel)",
   "language": "python",
   "name": "python3"
  },
  "language_info": {
   "codemirror_mode": {
    "name": "ipython",
    "version": 3
   },
   "file_extension": ".py",
   "mimetype": "text/x-python",
   "name": "python",
   "nbconvert_exporter": "python",
   "pygments_lexer": "ipython3",
   "version": "3.10.11"
  }
 },
 "nbformat": 4,
 "nbformat_minor": 5
}
